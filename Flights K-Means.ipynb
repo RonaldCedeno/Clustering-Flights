{
 "cells": [
  {
   "cell_type": "markdown",
   "id": "215436cf",
   "metadata": {},
   "source": [
    "# Characterization of airlines based on delay time"
   ]
  },
  {
   "cell_type": "markdown",
   "id": "f27a7dfa",
   "metadata": {},
   "source": [
    "## Libraries"
   ]
  },
  {
   "cell_type": "code",
   "execution_count": 1,
   "id": "0b37d436",
   "metadata": {},
   "outputs": [],
   "source": [
    "import pandas as pd\n",
    "import numpy as np\n",
    "from sklearn.preprocessing import StandardScaler\n",
    "from sklearn.cluster import KMeans\n",
    "import matplotlib.pyplot as plt\n",
    "import seaborn as sns"
   ]
  },
  {
   "cell_type": "markdown",
   "id": "3847d643",
   "metadata": {},
   "source": [
    "## Reading data from file"
   ]
  },
  {
   "cell_type": "code",
   "execution_count": 2,
   "id": "16f7cee7",
   "metadata": {},
   "outputs": [],
   "source": [
    "flights = pd.read_csv(\"flights.txt\", sep=\"|\")"
   ]
  },
  {
   "cell_type": "code",
   "execution_count": 3,
   "id": "7d0e832e",
   "metadata": {},
   "outputs": [
    {
     "data": {
      "text/plain": [
       "(1191805, 31)"
      ]
     },
     "execution_count": 3,
     "metadata": {},
     "output_type": "execute_result"
    }
   ],
   "source": [
    "flights.shape"
   ]
  },
  {
   "cell_type": "code",
   "execution_count": 4,
   "id": "069a11d6",
   "metadata": {},
   "outputs": [],
   "source": [
    "flights['FLIGHTDATE'] = pd.to_datetime(flights['FLIGHTDATE'], format='%Y%m%d')"
   ]
  },
  {
   "cell_type": "code",
   "execution_count": 5,
   "id": "27e48037",
   "metadata": {},
   "outputs": [
    {
     "data": {
      "text/plain": [
       "TRANSACTIONID                 int64\n",
       "FLIGHTDATE           datetime64[ns]\n",
       "AIRLINECODE                  object\n",
       "AIRLINENAME                  object\n",
       "TAILNUM                      object\n",
       "FLIGHTNUM                     int64\n",
       "ORIGINAIRPORTCODE            object\n",
       "ORIGAIRPORTNAME              object\n",
       "ORIGINCITYNAME               object\n",
       "ORIGINSTATE                  object\n",
       "ORIGINSTATENAME              object\n",
       "DESTAIRPORTCODE              object\n",
       "DESTAIRPORTNAME              object\n",
       "DESTCITYNAME                 object\n",
       "DESTSTATE                    object\n",
       "DESTSTATENAME                object\n",
       "CRSDEPTIME                    int64\n",
       "DEPTIME                     float64\n",
       "DEPDELAY                    float64\n",
       "TAXIOUT                     float64\n",
       "WHEELSOFF                   float64\n",
       "WHEELSON                    float64\n",
       "TAXIIN                      float64\n",
       "CRSARRTIME                    int64\n",
       "ARRTIME                     float64\n",
       "ARRDELAY                    float64\n",
       "CRSELAPSEDTIME              float64\n",
       "ACTUALELAPSEDTIME           float64\n",
       "CANCELLED                    object\n",
       "DIVERTED                     object\n",
       "DISTANCE                     object\n",
       "dtype: object"
      ]
     },
     "execution_count": 5,
     "metadata": {},
     "output_type": "execute_result"
    }
   ],
   "source": [
    "flights.dtypes"
   ]
  },
  {
   "cell_type": "code",
   "execution_count": 6,
   "id": "dd531cf3",
   "metadata": {},
   "outputs": [
    {
     "data": {
      "text/html": [
       "<div>\n",
       "<style scoped>\n",
       "    .dataframe tbody tr th:only-of-type {\n",
       "        vertical-align: middle;\n",
       "    }\n",
       "\n",
       "    .dataframe tbody tr th {\n",
       "        vertical-align: top;\n",
       "    }\n",
       "\n",
       "    .dataframe thead th {\n",
       "        text-align: right;\n",
       "    }\n",
       "</style>\n",
       "<table border=\"1\" class=\"dataframe\">\n",
       "  <thead>\n",
       "    <tr style=\"text-align: right;\">\n",
       "      <th></th>\n",
       "      <th>TRANSACTIONID</th>\n",
       "      <th>FLIGHTDATE</th>\n",
       "      <th>AIRLINECODE</th>\n",
       "      <th>AIRLINENAME</th>\n",
       "      <th>TAILNUM</th>\n",
       "      <th>FLIGHTNUM</th>\n",
       "      <th>ORIGINAIRPORTCODE</th>\n",
       "      <th>ORIGAIRPORTNAME</th>\n",
       "      <th>ORIGINCITYNAME</th>\n",
       "      <th>ORIGINSTATE</th>\n",
       "      <th>ORIGINSTATENAME</th>\n",
       "      <th>DESTAIRPORTCODE</th>\n",
       "      <th>DESTAIRPORTNAME</th>\n",
       "      <th>DESTCITYNAME</th>\n",
       "      <th>DESTSTATE</th>\n",
       "      <th>DESTSTATENAME</th>\n",
       "    </tr>\n",
       "  </thead>\n",
       "  <tbody>\n",
       "    <tr>\n",
       "      <th>0</th>\n",
       "      <td>54548800</td>\n",
       "      <td>2002-01-01</td>\n",
       "      <td>WN</td>\n",
       "      <td>Southwest Airlines Co.: WN</td>\n",
       "      <td>N103@@</td>\n",
       "      <td>1425</td>\n",
       "      <td>ABQ</td>\n",
       "      <td>AlbuquerqueNM: Albuquerque International Sunport</td>\n",
       "      <td>Albuquerque</td>\n",
       "      <td>NM</td>\n",
       "      <td>New Mexico</td>\n",
       "      <td>DAL</td>\n",
       "      <td>DallasTX: Dallas Love Field</td>\n",
       "      <td>Dallas</td>\n",
       "      <td>TX</td>\n",
       "      <td>Texas</td>\n",
       "    </tr>\n",
       "    <tr>\n",
       "      <th>1</th>\n",
       "      <td>55872300</td>\n",
       "      <td>2002-01-01</td>\n",
       "      <td>CO</td>\n",
       "      <td>Continental Air Lines Inc.: CO</td>\n",
       "      <td>N83872</td>\n",
       "      <td>150</td>\n",
       "      <td>ABQ</td>\n",
       "      <td>AlbuquerqueNM: Albuquerque International Sunport</td>\n",
       "      <td>Albuquerque</td>\n",
       "      <td>NM</td>\n",
       "      <td>New Mexico</td>\n",
       "      <td>IAH</td>\n",
       "      <td>HoustonTX: George Bush Intercontinental/Houston</td>\n",
       "      <td>Houston</td>\n",
       "      <td>TX</td>\n",
       "      <td>Texas</td>\n",
       "    </tr>\n",
       "    <tr>\n",
       "      <th>2</th>\n",
       "      <td>54388800</td>\n",
       "      <td>2002-01-01</td>\n",
       "      <td>WN</td>\n",
       "      <td>Southwest Airlines Co.: WN</td>\n",
       "      <td>N334@@</td>\n",
       "      <td>249</td>\n",
       "      <td>ABQ</td>\n",
       "      <td>AlbuquerqueNM: Albuquerque International Sunport</td>\n",
       "      <td>Albuquerque</td>\n",
       "      <td>NM</td>\n",
       "      <td>New Mexico</td>\n",
       "      <td>MCI</td>\n",
       "      <td>Kansas CityMO: Kansas City International</td>\n",
       "      <td>Kansas City</td>\n",
       "      <td>MO</td>\n",
       "      <td>Missouri</td>\n",
       "    </tr>\n",
       "    <tr>\n",
       "      <th>3</th>\n",
       "      <td>54486500</td>\n",
       "      <td>2002-01-01</td>\n",
       "      <td>WN</td>\n",
       "      <td>Southwest Airlines Co.: WN</td>\n",
       "      <td>N699@@</td>\n",
       "      <td>902</td>\n",
       "      <td>ABQ</td>\n",
       "      <td>AlbuquerqueNM: Albuquerque International Sunport</td>\n",
       "      <td>Albuquerque</td>\n",
       "      <td>NM</td>\n",
       "      <td>New Mexico</td>\n",
       "      <td>LAS</td>\n",
       "      <td>Las VegasNV: McCarran International</td>\n",
       "      <td>Las Vegas</td>\n",
       "      <td>NV</td>\n",
       "      <td>Nevada</td>\n",
       "    </tr>\n",
       "    <tr>\n",
       "      <th>4</th>\n",
       "      <td>55878700</td>\n",
       "      <td>2002-01-03</td>\n",
       "      <td>CO</td>\n",
       "      <td>Continental Air Lines Inc.: CO</td>\n",
       "      <td>N58606</td>\n",
       "      <td>234</td>\n",
       "      <td>ABQ</td>\n",
       "      <td>AlbuquerqueNM: Albuquerque International Sunport</td>\n",
       "      <td>Albuquerque</td>\n",
       "      <td>NM</td>\n",
       "      <td>New Mexico</td>\n",
       "      <td>IAH</td>\n",
       "      <td>HoustonTX: George Bush Intercontinental/Houston</td>\n",
       "      <td>Houston</td>\n",
       "      <td>TX</td>\n",
       "      <td>Texas</td>\n",
       "    </tr>\n",
       "  </tbody>\n",
       "</table>\n",
       "</div>"
      ],
      "text/plain": [
       "   TRANSACTIONID FLIGHTDATE AIRLINECODE                     AIRLINENAME  \\\n",
       "0       54548800 2002-01-01          WN      Southwest Airlines Co.: WN   \n",
       "1       55872300 2002-01-01          CO  Continental Air Lines Inc.: CO   \n",
       "2       54388800 2002-01-01          WN      Southwest Airlines Co.: WN   \n",
       "3       54486500 2002-01-01          WN      Southwest Airlines Co.: WN   \n",
       "4       55878700 2002-01-03          CO  Continental Air Lines Inc.: CO   \n",
       "\n",
       "  TAILNUM  FLIGHTNUM ORIGINAIRPORTCODE  \\\n",
       "0  N103@@       1425               ABQ   \n",
       "1  N83872        150               ABQ   \n",
       "2  N334@@        249               ABQ   \n",
       "3  N699@@        902               ABQ   \n",
       "4  N58606        234               ABQ   \n",
       "\n",
       "                                    ORIGAIRPORTNAME ORIGINCITYNAME  \\\n",
       "0  AlbuquerqueNM: Albuquerque International Sunport    Albuquerque   \n",
       "1  AlbuquerqueNM: Albuquerque International Sunport    Albuquerque   \n",
       "2  AlbuquerqueNM: Albuquerque International Sunport    Albuquerque   \n",
       "3  AlbuquerqueNM: Albuquerque International Sunport    Albuquerque   \n",
       "4  AlbuquerqueNM: Albuquerque International Sunport    Albuquerque   \n",
       "\n",
       "  ORIGINSTATE ORIGINSTATENAME DESTAIRPORTCODE  \\\n",
       "0          NM      New Mexico             DAL   \n",
       "1          NM      New Mexico             IAH   \n",
       "2          NM      New Mexico             MCI   \n",
       "3          NM      New Mexico             LAS   \n",
       "4          NM      New Mexico             IAH   \n",
       "\n",
       "                                   DESTAIRPORTNAME DESTCITYNAME DESTSTATE  \\\n",
       "0                      DallasTX: Dallas Love Field       Dallas        TX   \n",
       "1  HoustonTX: George Bush Intercontinental/Houston      Houston        TX   \n",
       "2         Kansas CityMO: Kansas City International  Kansas City        MO   \n",
       "3              Las VegasNV: McCarran International    Las Vegas        NV   \n",
       "4  HoustonTX: George Bush Intercontinental/Houston      Houston        TX   \n",
       "\n",
       "  DESTSTATENAME  \n",
       "0         Texas  \n",
       "1         Texas  \n",
       "2      Missouri  \n",
       "3        Nevada  \n",
       "4         Texas  "
      ]
     },
     "execution_count": 6,
     "metadata": {},
     "output_type": "execute_result"
    }
   ],
   "source": [
    "flights.iloc[:,:16].head()"
   ]
  },
  {
   "cell_type": "code",
   "execution_count": 7,
   "id": "938df385",
   "metadata": {},
   "outputs": [
    {
     "data": {
      "text/html": [
       "<div>\n",
       "<style scoped>\n",
       "    .dataframe tbody tr th:only-of-type {\n",
       "        vertical-align: middle;\n",
       "    }\n",
       "\n",
       "    .dataframe tbody tr th {\n",
       "        vertical-align: top;\n",
       "    }\n",
       "\n",
       "    .dataframe thead th {\n",
       "        text-align: right;\n",
       "    }\n",
       "</style>\n",
       "<table border=\"1\" class=\"dataframe\">\n",
       "  <thead>\n",
       "    <tr style=\"text-align: right;\">\n",
       "      <th></th>\n",
       "      <th>CRSDEPTIME</th>\n",
       "      <th>DEPTIME</th>\n",
       "      <th>DEPDELAY</th>\n",
       "      <th>TAXIOUT</th>\n",
       "      <th>WHEELSOFF</th>\n",
       "      <th>WHEELSON</th>\n",
       "      <th>TAXIIN</th>\n",
       "      <th>CRSARRTIME</th>\n",
       "      <th>ARRTIME</th>\n",
       "      <th>ARRDELAY</th>\n",
       "      <th>CRSELAPSEDTIME</th>\n",
       "      <th>ACTUALELAPSEDTIME</th>\n",
       "      <th>CANCELLED</th>\n",
       "      <th>DIVERTED</th>\n",
       "      <th>DISTANCE</th>\n",
       "    </tr>\n",
       "  </thead>\n",
       "  <tbody>\n",
       "    <tr>\n",
       "      <th>0</th>\n",
       "      <td>1425</td>\n",
       "      <td>1425.0</td>\n",
       "      <td>0.0</td>\n",
       "      <td>8.0</td>\n",
       "      <td>1433.0</td>\n",
       "      <td>1648.0</td>\n",
       "      <td>4.0</td>\n",
       "      <td>1655</td>\n",
       "      <td>1652.0</td>\n",
       "      <td>-3.0</td>\n",
       "      <td>90.0</td>\n",
       "      <td>87.0</td>\n",
       "      <td>F</td>\n",
       "      <td>False</td>\n",
       "      <td>580 miles</td>\n",
       "    </tr>\n",
       "    <tr>\n",
       "      <th>1</th>\n",
       "      <td>1130</td>\n",
       "      <td>1136.0</td>\n",
       "      <td>6.0</td>\n",
       "      <td>12.0</td>\n",
       "      <td>1148.0</td>\n",
       "      <td>1419.0</td>\n",
       "      <td>16.0</td>\n",
       "      <td>1426</td>\n",
       "      <td>1435.0</td>\n",
       "      <td>9.0</td>\n",
       "      <td>116.0</td>\n",
       "      <td>119.0</td>\n",
       "      <td>False</td>\n",
       "      <td>F</td>\n",
       "      <td>744 miles</td>\n",
       "    </tr>\n",
       "    <tr>\n",
       "      <th>2</th>\n",
       "      <td>1215</td>\n",
       "      <td>1338.0</td>\n",
       "      <td>83.0</td>\n",
       "      <td>7.0</td>\n",
       "      <td>1345.0</td>\n",
       "      <td>1618.0</td>\n",
       "      <td>2.0</td>\n",
       "      <td>1500</td>\n",
       "      <td>1620.0</td>\n",
       "      <td>80.0</td>\n",
       "      <td>105.0</td>\n",
       "      <td>102.0</td>\n",
       "      <td>F</td>\n",
       "      <td>False</td>\n",
       "      <td>718 miles</td>\n",
       "    </tr>\n",
       "    <tr>\n",
       "      <th>3</th>\n",
       "      <td>1925</td>\n",
       "      <td>1925.0</td>\n",
       "      <td>0.0</td>\n",
       "      <td>5.0</td>\n",
       "      <td>1930.0</td>\n",
       "      <td>1947.0</td>\n",
       "      <td>1.0</td>\n",
       "      <td>1950</td>\n",
       "      <td>1948.0</td>\n",
       "      <td>-2.0</td>\n",
       "      <td>85.0</td>\n",
       "      <td>83.0</td>\n",
       "      <td>0</td>\n",
       "      <td>0</td>\n",
       "      <td>487 miles</td>\n",
       "    </tr>\n",
       "    <tr>\n",
       "      <th>4</th>\n",
       "      <td>1455</td>\n",
       "      <td>1453.0</td>\n",
       "      <td>-2.0</td>\n",
       "      <td>11.0</td>\n",
       "      <td>1504.0</td>\n",
       "      <td>1742.0</td>\n",
       "      <td>5.0</td>\n",
       "      <td>1750</td>\n",
       "      <td>1747.0</td>\n",
       "      <td>-3.0</td>\n",
       "      <td>115.0</td>\n",
       "      <td>114.0</td>\n",
       "      <td>F</td>\n",
       "      <td>False</td>\n",
       "      <td>744 miles</td>\n",
       "    </tr>\n",
       "  </tbody>\n",
       "</table>\n",
       "</div>"
      ],
      "text/plain": [
       "   CRSDEPTIME  DEPTIME  DEPDELAY  TAXIOUT  WHEELSOFF  WHEELSON  TAXIIN  \\\n",
       "0        1425   1425.0       0.0      8.0     1433.0    1648.0     4.0   \n",
       "1        1130   1136.0       6.0     12.0     1148.0    1419.0    16.0   \n",
       "2        1215   1338.0      83.0      7.0     1345.0    1618.0     2.0   \n",
       "3        1925   1925.0       0.0      5.0     1930.0    1947.0     1.0   \n",
       "4        1455   1453.0      -2.0     11.0     1504.0    1742.0     5.0   \n",
       "\n",
       "   CRSARRTIME  ARRTIME  ARRDELAY  CRSELAPSEDTIME  ACTUALELAPSEDTIME CANCELLED  \\\n",
       "0        1655   1652.0      -3.0            90.0               87.0         F   \n",
       "1        1426   1435.0       9.0           116.0              119.0     False   \n",
       "2        1500   1620.0      80.0           105.0              102.0         F   \n",
       "3        1950   1948.0      -2.0            85.0               83.0         0   \n",
       "4        1750   1747.0      -3.0           115.0              114.0         F   \n",
       "\n",
       "  DIVERTED   DISTANCE  \n",
       "0    False  580 miles  \n",
       "1        F  744 miles  \n",
       "2    False  718 miles  \n",
       "3        0  487 miles  \n",
       "4    False  744 miles  "
      ]
     },
     "execution_count": 7,
     "metadata": {},
     "output_type": "execute_result"
    }
   ],
   "source": [
    "flights.iloc[:,16:].head()"
   ]
  },
  {
   "cell_type": "code",
   "execution_count": 8,
   "id": "f261bfc9",
   "metadata": {},
   "outputs": [
    {
     "data": {
      "text/plain": [
       "Index(['TRANSACTIONID', 'FLIGHTDATE', 'AIRLINECODE', 'AIRLINENAME', 'TAILNUM',\n",
       "       'FLIGHTNUM', 'ORIGINAIRPORTCODE', 'ORIGAIRPORTNAME', 'ORIGINCITYNAME',\n",
       "       'ORIGINSTATE', 'ORIGINSTATENAME', 'DESTAIRPORTCODE', 'DESTAIRPORTNAME',\n",
       "       'DESTCITYNAME', 'DESTSTATE', 'DESTSTATENAME', 'CRSDEPTIME', 'DEPTIME',\n",
       "       'DEPDELAY', 'TAXIOUT', 'WHEELSOFF', 'WHEELSON', 'TAXIIN', 'CRSARRTIME',\n",
       "       'ARRTIME', 'ARRDELAY', 'CRSELAPSEDTIME', 'ACTUALELAPSEDTIME',\n",
       "       'CANCELLED', 'DIVERTED', 'DISTANCE'],\n",
       "      dtype='object')"
      ]
     },
     "execution_count": 8,
     "metadata": {},
     "output_type": "execute_result"
    }
   ],
   "source": [
    "flights.columns"
   ]
  },
  {
   "cell_type": "markdown",
   "id": "1fe51ce2",
   "metadata": {},
   "source": [
    "## Manipulating and organizing data"
   ]
  },
  {
   "cell_type": "code",
   "execution_count": 9,
   "id": "584e0f61",
   "metadata": {},
   "outputs": [],
   "source": [
    "flights['TOTALDELAY'] = flights['DEPDELAY'] + flights['ARRDELAY']"
   ]
  },
  {
   "cell_type": "code",
   "execution_count": 10,
   "id": "e2dd1834",
   "metadata": {},
   "outputs": [],
   "source": [
    "flights['DISTANCEMILES'] = pd.DataFrame(flights['DISTANCE'].str.split().tolist())[0].astype('float64')"
   ]
  },
  {
   "cell_type": "code",
   "execution_count": 11,
   "id": "672ce5b2",
   "metadata": {},
   "outputs": [],
   "source": [
    "flights['CANCELLED'] = flights['CANCELLED'].str.replace(\"False\",\"0\").str.replace(\"F\",\"0\").str.replace(\"True\",\"1\").replace(\"T\",\"1\").astype(\"int64\")"
   ]
  },
  {
   "cell_type": "code",
   "execution_count": 12,
   "id": "88efb1f3",
   "metadata": {},
   "outputs": [],
   "source": [
    "columns = ['AIRLINENAME','TOTALDELAY','TAXIOUT','TAXIIN','ACTUALELAPSEDTIME','DISTANCEMILES','CANCELLED']"
   ]
  },
  {
   "cell_type": "code",
   "execution_count": 13,
   "id": "1e944c89",
   "metadata": {},
   "outputs": [],
   "source": [
    "flights_X = flights.loc[:,columns]"
   ]
  },
  {
   "cell_type": "code",
   "execution_count": 14,
   "id": "047240a5",
   "metadata": {},
   "outputs": [
    {
     "data": {
      "text/plain": [
       "AIRLINENAME           object\n",
       "TOTALDELAY           float64\n",
       "TAXIOUT              float64\n",
       "TAXIIN               float64\n",
       "ACTUALELAPSEDTIME    float64\n",
       "DISTANCEMILES        float64\n",
       "CANCELLED              int64\n",
       "dtype: object"
      ]
     },
     "execution_count": 14,
     "metadata": {},
     "output_type": "execute_result"
    }
   ],
   "source": [
    "flights_X.dtypes"
   ]
  },
  {
   "cell_type": "code",
   "execution_count": 15,
   "id": "04431fb2",
   "metadata": {},
   "outputs": [],
   "source": [
    "flights_cancelled = pd.DataFrame(flights_X.groupby(\"CANCELLED\")['AIRLINENAME'].value_counts()[1])"
   ]
  },
  {
   "cell_type": "code",
   "execution_count": 16,
   "id": "5b78ce77",
   "metadata": {},
   "outputs": [],
   "source": [
    "flights_cancelled = flights_cancelled.rename(columns={'AIRLINENAME':'CANCELLED'}).reset_index()"
   ]
  },
  {
   "cell_type": "code",
   "execution_count": 17,
   "id": "6eb86513",
   "metadata": {},
   "outputs": [
    {
     "data": {
      "text/html": [
       "<div>\n",
       "<style scoped>\n",
       "    .dataframe tbody tr th:only-of-type {\n",
       "        vertical-align: middle;\n",
       "    }\n",
       "\n",
       "    .dataframe tbody tr th {\n",
       "        vertical-align: top;\n",
       "    }\n",
       "\n",
       "    .dataframe thead th {\n",
       "        text-align: right;\n",
       "    }\n",
       "</style>\n",
       "<table border=\"1\" class=\"dataframe\">\n",
       "  <thead>\n",
       "    <tr style=\"text-align: right;\">\n",
       "      <th></th>\n",
       "      <th>AIRLINENAME</th>\n",
       "      <th>CANCELLED</th>\n",
       "    </tr>\n",
       "  </thead>\n",
       "  <tbody>\n",
       "    <tr>\n",
       "      <th>0</th>\n",
       "      <td>American Airlines Inc.: AA</td>\n",
       "      <td>3624</td>\n",
       "    </tr>\n",
       "    <tr>\n",
       "      <th>1</th>\n",
       "      <td>US Airways Inc.: US (Merged with America West ...</td>\n",
       "      <td>3399</td>\n",
       "    </tr>\n",
       "    <tr>\n",
       "      <th>2</th>\n",
       "      <td>United Air Lines Inc.: UA</td>\n",
       "      <td>3316</td>\n",
       "    </tr>\n",
       "    <tr>\n",
       "      <th>3</th>\n",
       "      <td>Delta Air Lines Inc.: DL</td>\n",
       "      <td>3303</td>\n",
       "    </tr>\n",
       "    <tr>\n",
       "      <th>4</th>\n",
       "      <td>Northwest Airlines Inc.: NW</td>\n",
       "      <td>2795</td>\n",
       "    </tr>\n",
       "  </tbody>\n",
       "</table>\n",
       "</div>"
      ],
      "text/plain": [
       "                                         AIRLINENAME  CANCELLED\n",
       "0                         American Airlines Inc.: AA       3624\n",
       "1  US Airways Inc.: US (Merged with America West ...       3399\n",
       "2                          United Air Lines Inc.: UA       3316\n",
       "3                           Delta Air Lines Inc.: DL       3303\n",
       "4                        Northwest Airlines Inc.: NW       2795"
      ]
     },
     "execution_count": 17,
     "metadata": {},
     "output_type": "execute_result"
    }
   ],
   "source": [
    "flights_cancelled.head()"
   ]
  },
  {
   "cell_type": "code",
   "execution_count": 18,
   "id": "496f778e",
   "metadata": {},
   "outputs": [],
   "source": [
    "flights_airlines = flights_X.groupby('AIRLINENAME').agg({'TOTALDELAY':np.mean,'TAXIOUT':np.mean,'TAXIIN':np.mean,'ACTUALELAPSEDTIME':np.mean,'DISTANCEMILES':np.sum})"
   ]
  },
  {
   "cell_type": "code",
   "execution_count": 19,
   "id": "ee90184a",
   "metadata": {},
   "outputs": [],
   "source": [
    "flights_airlines.reset_index(inplace=True)"
   ]
  },
  {
   "cell_type": "code",
   "execution_count": 20,
   "id": "d52c2c35",
   "metadata": {},
   "outputs": [],
   "source": [
    "flights_airlines = flights_airlines.merge(flights_cancelled, on=\"AIRLINENAME\", how=\"left\")"
   ]
  },
  {
   "cell_type": "code",
   "execution_count": 21,
   "id": "aa39d1fd",
   "metadata": {},
   "outputs": [
    {
     "data": {
      "text/html": [
       "<div>\n",
       "<style scoped>\n",
       "    .dataframe tbody tr th:only-of-type {\n",
       "        vertical-align: middle;\n",
       "    }\n",
       "\n",
       "    .dataframe tbody tr th {\n",
       "        vertical-align: top;\n",
       "    }\n",
       "\n",
       "    .dataframe thead th {\n",
       "        text-align: right;\n",
       "    }\n",
       "</style>\n",
       "<table border=\"1\" class=\"dataframe\">\n",
       "  <thead>\n",
       "    <tr style=\"text-align: right;\">\n",
       "      <th></th>\n",
       "      <th>AIRLINENAME</th>\n",
       "      <th>TOTALDELAY</th>\n",
       "      <th>TAXIOUT</th>\n",
       "      <th>TAXIIN</th>\n",
       "      <th>ACTUALELAPSEDTIME</th>\n",
       "      <th>DISTANCEMILES</th>\n",
       "      <th>CANCELLED</th>\n",
       "    </tr>\n",
       "  </thead>\n",
       "  <tbody>\n",
       "    <tr>\n",
       "      <th>0</th>\n",
       "      <td>ATA Airlines d/b/a ATA: TZ</td>\n",
       "      <td>8.926534</td>\n",
       "      <td>17.695652</td>\n",
       "      <td>7.359486</td>\n",
       "      <td>173.425820</td>\n",
       "      <td>1592613.0</td>\n",
       "      <td>17</td>\n",
       "    </tr>\n",
       "    <tr>\n",
       "      <th>1</th>\n",
       "      <td>AirTran Airways Corporation: FL</td>\n",
       "      <td>7.135774</td>\n",
       "      <td>14.997573</td>\n",
       "      <td>7.523575</td>\n",
       "      <td>122.362740</td>\n",
       "      <td>10537169.0</td>\n",
       "      <td>175</td>\n",
       "    </tr>\n",
       "    <tr>\n",
       "      <th>2</th>\n",
       "      <td>Alaska Airlines Inc.: AS</td>\n",
       "      <td>7.083628</td>\n",
       "      <td>13.283854</td>\n",
       "      <td>5.182460</td>\n",
       "      <td>140.234049</td>\n",
       "      <td>26461827.0</td>\n",
       "      <td>646</td>\n",
       "    </tr>\n",
       "    <tr>\n",
       "      <th>3</th>\n",
       "      <td>Aloha Airlines Inc.: AQ</td>\n",
       "      <td>2.056818</td>\n",
       "      <td>7.001623</td>\n",
       "      <td>3.754870</td>\n",
       "      <td>48.779221</td>\n",
       "      <td>147155.0</td>\n",
       "      <td>29</td>\n",
       "    </tr>\n",
       "    <tr>\n",
       "      <th>4</th>\n",
       "      <td>America West Airlines Inc.: HP (Merged with US...</td>\n",
       "      <td>15.274335</td>\n",
       "      <td>14.425029</td>\n",
       "      <td>6.009991</td>\n",
       "      <td>130.772243</td>\n",
       "      <td>20923236.0</td>\n",
       "      <td>550</td>\n",
       "    </tr>\n",
       "  </tbody>\n",
       "</table>\n",
       "</div>"
      ],
      "text/plain": [
       "                                         AIRLINENAME  TOTALDELAY    TAXIOUT  \\\n",
       "0                         ATA Airlines d/b/a ATA: TZ    8.926534  17.695652   \n",
       "1                    AirTran Airways Corporation: FL    7.135774  14.997573   \n",
       "2                           Alaska Airlines Inc.: AS    7.083628  13.283854   \n",
       "3                            Aloha Airlines Inc.: AQ    2.056818   7.001623   \n",
       "4  America West Airlines Inc.: HP (Merged with US...   15.274335  14.425029   \n",
       "\n",
       "     TAXIIN  ACTUALELAPSEDTIME  DISTANCEMILES  CANCELLED  \n",
       "0  7.359486         173.425820      1592613.0         17  \n",
       "1  7.523575         122.362740     10537169.0        175  \n",
       "2  5.182460         140.234049     26461827.0        646  \n",
       "3  3.754870          48.779221       147155.0         29  \n",
       "4  6.009991         130.772243     20923236.0        550  "
      ]
     },
     "execution_count": 21,
     "metadata": {},
     "output_type": "execute_result"
    }
   ],
   "source": [
    "flights_airlines.head()"
   ]
  },
  {
   "cell_type": "code",
   "execution_count": 22,
   "id": "00c89119",
   "metadata": {},
   "outputs": [
    {
     "data": {
      "text/plain": [
       "(26, 7)"
      ]
     },
     "execution_count": 22,
     "metadata": {},
     "output_type": "execute_result"
    }
   ],
   "source": [
    "flights_airlines.shape"
   ]
  },
  {
   "cell_type": "markdown",
   "id": "dadcd1b8",
   "metadata": {},
   "source": [
    "## Input data"
   ]
  },
  {
   "cell_type": "code",
   "execution_count": 23,
   "id": "93b40c13",
   "metadata": {},
   "outputs": [],
   "source": [
    "X = flights_airlines.iloc[:,1:]"
   ]
  },
  {
   "cell_type": "code",
   "execution_count": 24,
   "id": "16f2834c",
   "metadata": {},
   "outputs": [
    {
     "data": {
      "text/html": [
       "<div>\n",
       "<style scoped>\n",
       "    .dataframe tbody tr th:only-of-type {\n",
       "        vertical-align: middle;\n",
       "    }\n",
       "\n",
       "    .dataframe tbody tr th {\n",
       "        vertical-align: top;\n",
       "    }\n",
       "\n",
       "    .dataframe thead th {\n",
       "        text-align: right;\n",
       "    }\n",
       "</style>\n",
       "<table border=\"1\" class=\"dataframe\">\n",
       "  <thead>\n",
       "    <tr style=\"text-align: right;\">\n",
       "      <th></th>\n",
       "      <th>TOTALDELAY</th>\n",
       "      <th>TAXIOUT</th>\n",
       "      <th>TAXIIN</th>\n",
       "      <th>ACTUALELAPSEDTIME</th>\n",
       "      <th>DISTANCEMILES</th>\n",
       "      <th>CANCELLED</th>\n",
       "    </tr>\n",
       "  </thead>\n",
       "  <tbody>\n",
       "    <tr>\n",
       "      <th>0</th>\n",
       "      <td>8.926534</td>\n",
       "      <td>17.695652</td>\n",
       "      <td>7.359486</td>\n",
       "      <td>173.425820</td>\n",
       "      <td>1592613.0</td>\n",
       "      <td>17</td>\n",
       "    </tr>\n",
       "    <tr>\n",
       "      <th>1</th>\n",
       "      <td>7.135774</td>\n",
       "      <td>14.997573</td>\n",
       "      <td>7.523575</td>\n",
       "      <td>122.362740</td>\n",
       "      <td>10537169.0</td>\n",
       "      <td>175</td>\n",
       "    </tr>\n",
       "    <tr>\n",
       "      <th>2</th>\n",
       "      <td>7.083628</td>\n",
       "      <td>13.283854</td>\n",
       "      <td>5.182460</td>\n",
       "      <td>140.234049</td>\n",
       "      <td>26461827.0</td>\n",
       "      <td>646</td>\n",
       "    </tr>\n",
       "    <tr>\n",
       "      <th>3</th>\n",
       "      <td>2.056818</td>\n",
       "      <td>7.001623</td>\n",
       "      <td>3.754870</td>\n",
       "      <td>48.779221</td>\n",
       "      <td>147155.0</td>\n",
       "      <td>29</td>\n",
       "    </tr>\n",
       "    <tr>\n",
       "      <th>4</th>\n",
       "      <td>15.274335</td>\n",
       "      <td>14.425029</td>\n",
       "      <td>6.009991</td>\n",
       "      <td>130.772243</td>\n",
       "      <td>20923236.0</td>\n",
       "      <td>550</td>\n",
       "    </tr>\n",
       "  </tbody>\n",
       "</table>\n",
       "</div>"
      ],
      "text/plain": [
       "   TOTALDELAY    TAXIOUT    TAXIIN  ACTUALELAPSEDTIME  DISTANCEMILES  \\\n",
       "0    8.926534  17.695652  7.359486         173.425820      1592613.0   \n",
       "1    7.135774  14.997573  7.523575         122.362740     10537169.0   \n",
       "2    7.083628  13.283854  5.182460         140.234049     26461827.0   \n",
       "3    2.056818   7.001623  3.754870          48.779221       147155.0   \n",
       "4   15.274335  14.425029  6.009991         130.772243     20923236.0   \n",
       "\n",
       "   CANCELLED  \n",
       "0         17  \n",
       "1        175  \n",
       "2        646  \n",
       "3         29  \n",
       "4        550  "
      ]
     },
     "execution_count": 24,
     "metadata": {},
     "output_type": "execute_result"
    }
   ],
   "source": [
    "X.head()"
   ]
  },
  {
   "cell_type": "code",
   "execution_count": 25,
   "id": "8ea5657e",
   "metadata": {},
   "outputs": [],
   "source": [
    "sc = StandardScaler()"
   ]
  },
  {
   "cell_type": "code",
   "execution_count": 26,
   "id": "b3fdd1b4",
   "metadata": {},
   "outputs": [
    {
     "data": {
      "text/plain": [
       "StandardScaler()"
      ]
     },
     "execution_count": 26,
     "metadata": {},
     "output_type": "execute_result"
    }
   ],
   "source": [
    "sc.fit(X)"
   ]
  },
  {
   "cell_type": "code",
   "execution_count": 27,
   "id": "3626936f",
   "metadata": {},
   "outputs": [],
   "source": [
    "X_norm = sc.transform(X)"
   ]
  },
  {
   "cell_type": "code",
   "execution_count": 28,
   "id": "4278b96d",
   "metadata": {},
   "outputs": [
    {
     "data": {
      "text/plain": [
       "(26, 6)"
      ]
     },
     "execution_count": 28,
     "metadata": {},
     "output_type": "execute_result"
    }
   ],
   "source": [
    "X_norm.shape"
   ]
  },
  {
   "cell_type": "markdown",
   "id": "d85ad6fe",
   "metadata": {},
   "source": [
    "### K-Means"
   ]
  },
  {
   "cell_type": "code",
   "execution_count": 29,
   "id": "247d2f85",
   "metadata": {},
   "outputs": [
    {
     "data": {
      "text/plain": [
       "array([ 1,  2,  3,  4,  5,  6,  7,  8,  9, 10])"
      ]
     },
     "execution_count": 29,
     "metadata": {},
     "output_type": "execute_result"
    }
   ],
   "source": [
    "clusters = np.arange(1,11)\n",
    "clusters"
   ]
  },
  {
   "cell_type": "code",
   "execution_count": 30,
   "id": "849f51e0",
   "metadata": {},
   "outputs": [],
   "source": [
    "inertia = []\n",
    "for k in clusters:\n",
    "    kmeans = KMeans(n_clusters=k, random_state=0)\n",
    "    kmeans.fit(X_norm)\n",
    "    inertia.append(kmeans.inertia_)"
   ]
  },
  {
   "cell_type": "code",
   "execution_count": 31,
   "id": "5cfba064",
   "metadata": {},
   "outputs": [
    {
     "data": {
      "text/html": [
       "<div>\n",
       "<style scoped>\n",
       "    .dataframe tbody tr th:only-of-type {\n",
       "        vertical-align: middle;\n",
       "    }\n",
       "\n",
       "    .dataframe tbody tr th {\n",
       "        vertical-align: top;\n",
       "    }\n",
       "\n",
       "    .dataframe thead th {\n",
       "        text-align: right;\n",
       "    }\n",
       "</style>\n",
       "<table border=\"1\" class=\"dataframe\">\n",
       "  <thead>\n",
       "    <tr style=\"text-align: right;\">\n",
       "      <th></th>\n",
       "      <th>K</th>\n",
       "      <th>Inertia</th>\n",
       "    </tr>\n",
       "  </thead>\n",
       "  <tbody>\n",
       "    <tr>\n",
       "      <th>0</th>\n",
       "      <td>1</td>\n",
       "      <td>156.000000</td>\n",
       "    </tr>\n",
       "    <tr>\n",
       "      <th>1</th>\n",
       "      <td>2</td>\n",
       "      <td>112.978867</td>\n",
       "    </tr>\n",
       "    <tr>\n",
       "      <th>2</th>\n",
       "      <td>3</td>\n",
       "      <td>82.707120</td>\n",
       "    </tr>\n",
       "    <tr>\n",
       "      <th>3</th>\n",
       "      <td>4</td>\n",
       "      <td>65.414638</td>\n",
       "    </tr>\n",
       "    <tr>\n",
       "      <th>4</th>\n",
       "      <td>5</td>\n",
       "      <td>49.680261</td>\n",
       "    </tr>\n",
       "    <tr>\n",
       "      <th>5</th>\n",
       "      <td>6</td>\n",
       "      <td>42.776412</td>\n",
       "    </tr>\n",
       "    <tr>\n",
       "      <th>6</th>\n",
       "      <td>7</td>\n",
       "      <td>36.899801</td>\n",
       "    </tr>\n",
       "    <tr>\n",
       "      <th>7</th>\n",
       "      <td>8</td>\n",
       "      <td>29.826952</td>\n",
       "    </tr>\n",
       "    <tr>\n",
       "      <th>8</th>\n",
       "      <td>9</td>\n",
       "      <td>24.961689</td>\n",
       "    </tr>\n",
       "    <tr>\n",
       "      <th>9</th>\n",
       "      <td>10</td>\n",
       "      <td>21.219137</td>\n",
       "    </tr>\n",
       "  </tbody>\n",
       "</table>\n",
       "</div>"
      ],
      "text/plain": [
       "    K     Inertia\n",
       "0   1  156.000000\n",
       "1   2  112.978867\n",
       "2   3   82.707120\n",
       "3   4   65.414638\n",
       "4   5   49.680261\n",
       "5   6   42.776412\n",
       "6   7   36.899801\n",
       "7   8   29.826952\n",
       "8   9   24.961689\n",
       "9  10   21.219137"
      ]
     },
     "execution_count": 31,
     "metadata": {},
     "output_type": "execute_result"
    }
   ],
   "source": [
    "eva = pd.DataFrame({\"K\": clusters, \"Inertia\": inertia})\n",
    "eva"
   ]
  },
  {
   "cell_type": "code",
   "execution_count": 32,
   "id": "519f4fb8",
   "metadata": {},
   "outputs": [
    {
     "data": {
      "image/png": "[encoded data removed]",
      "text/plain": [
       "<Figure size 720x360 with 1 Axes>"
      ]
     },
     "metadata": {
      "needs_background": "light"
     },
     "output_type": "display_data"
    }
   ],
   "source": [
    "fig,ax = plt.subplots(figsize=(10,5))\n",
    "_=sns.lineplot(data=eva, x=\"K\", y=\"Inertia\")\n",
    "_=ax.set_xlabel(\"Number of clusters - K\")\n",
    "_=ax.set_title(\"Evaluation of clustering\")"
   ]
  },
  {
   "cell_type": "code",
   "execution_count": 33,
   "id": "373d991f",
   "metadata": {},
   "outputs": [],
   "source": [
    "kmeans = KMeans(n_clusters=5, random_state=0)"
   ]
  },
  {
   "cell_type": "code",
   "execution_count": 34,
   "id": "52ecf8d4",
   "metadata": {},
   "outputs": [
    {
     "data": {
      "text/plain": [
       "KMeans(n_clusters=5, random_state=0)"
      ]
     },
     "execution_count": 34,
     "metadata": {},
     "output_type": "execute_result"
    }
   ],
   "source": [
    "kmeans.fit(X_norm)"
   ]
  },
  {
   "cell_type": "code",
   "execution_count": 35,
   "id": "466b5d4f",
   "metadata": {},
   "outputs": [
    {
     "data": {
      "text/plain": [
       "array([[ 0.02355025,  0.11486577, -0.21005306, -0.48207037, -0.44904674,\n",
       "        -0.31757355],\n",
       "       [-0.04612832,  0.00795901, -0.24642563,  0.19194845,  1.63776092,\n",
       "         1.6533324 ],\n",
       "       [ 0.10702096,  0.37603232,  0.11551318,  1.35171059, -0.38868668,\n",
       "        -0.62572946],\n",
       "       [ 1.79567945,  0.80732775,  2.69890384,  0.17486944, -0.7262431 ,\n",
       "        -0.78465739],\n",
       "       [-2.05437325, -2.40304731, -1.09311809, -1.4786042 , -0.74556591,\n",
       "        -0.86436167]])"
      ]
     },
     "execution_count": 35,
     "metadata": {},
     "output_type": "execute_result"
    }
   ],
   "source": [
    "kmeans.cluster_centers_"
   ]
  },
  {
   "cell_type": "code",
   "execution_count": 36,
   "id": "ec3f1d21",
   "metadata": {},
   "outputs": [],
   "source": [
    "flights_airlines['CLUSTER'] = kmeans.labels_"
   ]
  },
  {
   "cell_type": "code",
   "execution_count": 37,
   "id": "ae31019f",
   "metadata": {},
   "outputs": [
    {
     "data": {
      "text/html": [
       "<div>\n",
       "<style scoped>\n",
       "    .dataframe tbody tr th:only-of-type {\n",
       "        vertical-align: middle;\n",
       "    }\n",
       "\n",
       "    .dataframe tbody tr th {\n",
       "        vertical-align: top;\n",
       "    }\n",
       "\n",
       "    .dataframe thead th {\n",
       "        text-align: right;\n",
       "    }\n",
       "</style>\n",
       "<table border=\"1\" class=\"dataframe\">\n",
       "  <thead>\n",
       "    <tr style=\"text-align: right;\">\n",
       "      <th></th>\n",
       "      <th>AIRLINENAME</th>\n",
       "      <th>TOTALDELAY</th>\n",
       "      <th>TAXIOUT</th>\n",
       "      <th>TAXIIN</th>\n",
       "      <th>ACTUALELAPSEDTIME</th>\n",
       "      <th>DISTANCEMILES</th>\n",
       "      <th>CANCELLED</th>\n",
       "      <th>CLUSTER</th>\n",
       "    </tr>\n",
       "  </thead>\n",
       "  <tbody>\n",
       "    <tr>\n",
       "      <th>0</th>\n",
       "      <td>ATA Airlines d/b/a ATA: TZ</td>\n",
       "      <td>8.926534</td>\n",
       "      <td>17.695652</td>\n",
       "      <td>7.359486</td>\n",
       "      <td>173.425820</td>\n",
       "      <td>1592613.0</td>\n",
       "      <td>17</td>\n",
       "      <td>2</td>\n",
       "    </tr>\n",
       "    <tr>\n",
       "      <th>1</th>\n",
       "      <td>AirTran Airways Corporation: FL</td>\n",
       "      <td>7.135774</td>\n",
       "      <td>14.997573</td>\n",
       "      <td>7.523575</td>\n",
       "      <td>122.362740</td>\n",
       "      <td>10537169.0</td>\n",
       "      <td>175</td>\n",
       "      <td>0</td>\n",
       "    </tr>\n",
       "    <tr>\n",
       "      <th>2</th>\n",
       "      <td>Alaska Airlines Inc.: AS</td>\n",
       "      <td>7.083628</td>\n",
       "      <td>13.283854</td>\n",
       "      <td>5.182460</td>\n",
       "      <td>140.234049</td>\n",
       "      <td>26461827.0</td>\n",
       "      <td>646</td>\n",
       "      <td>0</td>\n",
       "    </tr>\n",
       "    <tr>\n",
       "      <th>3</th>\n",
       "      <td>Aloha Airlines Inc.: AQ</td>\n",
       "      <td>2.056818</td>\n",
       "      <td>7.001623</td>\n",
       "      <td>3.754870</td>\n",
       "      <td>48.779221</td>\n",
       "      <td>147155.0</td>\n",
       "      <td>29</td>\n",
       "      <td>4</td>\n",
       "    </tr>\n",
       "    <tr>\n",
       "      <th>4</th>\n",
       "      <td>America West Airlines Inc.: HP (Merged with US...</td>\n",
       "      <td>15.274335</td>\n",
       "      <td>14.425029</td>\n",
       "      <td>6.009991</td>\n",
       "      <td>130.772243</td>\n",
       "      <td>20923236.0</td>\n",
       "      <td>550</td>\n",
       "      <td>0</td>\n",
       "    </tr>\n",
       "  </tbody>\n",
       "</table>\n",
       "</div>"
      ],
      "text/plain": [
       "                                         AIRLINENAME  TOTALDELAY    TAXIOUT  \\\n",
       "0                         ATA Airlines d/b/a ATA: TZ    8.926534  17.695652   \n",
       "1                    AirTran Airways Corporation: FL    7.135774  14.997573   \n",
       "2                           Alaska Airlines Inc.: AS    7.083628  13.283854   \n",
       "3                            Aloha Airlines Inc.: AQ    2.056818   7.001623   \n",
       "4  America West Airlines Inc.: HP (Merged with US...   15.274335  14.425029   \n",
       "\n",
       "     TAXIIN  ACTUALELAPSEDTIME  DISTANCEMILES  CANCELLED  CLUSTER  \n",
       "0  7.359486         173.425820      1592613.0         17        2  \n",
       "1  7.523575         122.362740     10537169.0        175        0  \n",
       "2  5.182460         140.234049     26461827.0        646        0  \n",
       "3  3.754870          48.779221       147155.0         29        4  \n",
       "4  6.009991         130.772243     20923236.0        550        0  "
      ]
     },
     "execution_count": 37,
     "metadata": {},
     "output_type": "execute_result"
    }
   ],
   "source": [
    "flights_airlines.head()"
   ]
  },
  {
   "cell_type": "code",
   "execution_count": 38,
   "id": "822488fc",
   "metadata": {},
   "outputs": [
    {
     "data": {
      "image/png": "[encoded data removed]",
      "text/plain": [
       "<Figure size 1132.62x1080 with 42 Axes>"
      ]
     },
     "metadata": {
      "needs_background": "light"
     },
     "output_type": "display_data"
    }
   ],
   "source": [
    "_=sns.pairplot(flights_airlines, hue='CLUSTER', palette=\"tab10\")"
   ]
  }
 ],
 "metadata": {
  "kernelspec": {
   "display_name": "Python 3",
   "language": "python",
   "name": "python3"
  },
  "language_info": {
   "codemirror_mode": {
    "name": "ipython",
    "version": 3
   },
   "file_extension": ".py",
   "mimetype": "text/x-python",
   "name": "python",
   "nbconvert_exporter": "python",
   "pygments_lexer": "ipython3",
   "version": "3.7.9"
  }
 },
 "nbformat": 4,
 "nbformat_minor": 5
}
