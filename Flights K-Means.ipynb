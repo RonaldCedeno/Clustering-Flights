{
 "cells": [
  {
   "cell_type": "markdown",
   "id": "215436cf",
   "metadata": {},
   "source": [
    "# Characterization of airlines based on features"
   ]
  },
  {
   "cell_type": "markdown",
   "id": "f27a7dfa",
   "metadata": {},
   "source": [
    "## Libraries"
   ]
  },
  {
   "cell_type": "code",
   "execution_count": 1,
   "id": "0b37d436",
   "metadata": {},
   "outputs": [],
   "source": [
    "import pandas as pd\n",
    "import numpy as np\n",
    "from sklearn.preprocessing import StandardScaler\n",
    "from sklearn.cluster import KMeans\n",
    "import matplotlib.pyplot as plt\n",
    "import seaborn as sns\n",
    "sns.set_style(\"darkgrid\")"
   ]
  },
  {
   "cell_type": "markdown",
   "id": "3847d643",
   "metadata": {},
   "source": [
    "## Reading data from file"
   ]
  },
  {
   "cell_type": "code",
   "execution_count": 2,
   "id": "16f7cee7",
   "metadata": {},
   "outputs": [],
   "source": [
    "flights = pd.read_csv(\"flights.txt\", sep=\"|\")"
   ]
  },
  {
   "cell_type": "code",
   "execution_count": 3,
   "id": "7d0e832e",
   "metadata": {},
   "outputs": [
    {
     "data": {
      "text/plain": [
       "(1191805, 31)"
      ]
     },
     "execution_count": 3,
     "metadata": {},
     "output_type": "execute_result"
    }
   ],
   "source": [
    "flights.shape"
   ]
  },
  {
   "cell_type": "code",
   "execution_count": 4,
   "id": "069a11d6",
   "metadata": {},
   "outputs": [],
   "source": [
    "flights['FLIGHTDATE'] = pd.to_datetime(flights['FLIGHTDATE'], format='%Y%m%d')"
   ]
  },
  {
   "cell_type": "code",
   "execution_count": 5,
   "id": "27e48037",
   "metadata": {},
   "outputs": [
    {
     "data": {
      "text/plain": [
       "TRANSACTIONID                 int64\n",
       "FLIGHTDATE           datetime64[ns]\n",
       "AIRLINECODE                  object\n",
       "AIRLINENAME                  object\n",
       "TAILNUM                      object\n",
       "FLIGHTNUM                     int64\n",
       "ORIGINAIRPORTCODE            object\n",
       "ORIGAIRPORTNAME              object\n",
       "ORIGINCITYNAME               object\n",
       "ORIGINSTATE                  object\n",
       "ORIGINSTATENAME              object\n",
       "DESTAIRPORTCODE              object\n",
       "DESTAIRPORTNAME              object\n",
       "DESTCITYNAME                 object\n",
       "DESTSTATE                    object\n",
       "DESTSTATENAME                object\n",
       "CRSDEPTIME                    int64\n",
       "DEPTIME                     float64\n",
       "DEPDELAY                    float64\n",
       "TAXIOUT                     float64\n",
       "WHEELSOFF                   float64\n",
       "WHEELSON                    float64\n",
       "TAXIIN                      float64\n",
       "CRSARRTIME                    int64\n",
       "ARRTIME                     float64\n",
       "ARRDELAY                    float64\n",
       "CRSELAPSEDTIME              float64\n",
       "ACTUALELAPSEDTIME           float64\n",
       "CANCELLED                    object\n",
       "DIVERTED                     object\n",
       "DISTANCE                     object\n",
       "dtype: object"
      ]
     },
     "execution_count": 5,
     "metadata": {},
     "output_type": "execute_result"
    }
   ],
   "source": [
    "flights.dtypes"
   ]
  },
  {
   "cell_type": "code",
   "execution_count": 6,
   "id": "dd531cf3",
   "metadata": {},
   "outputs": [
    {
     "data": {
      "text/html": [
       "<div>\n",
       "<style scoped>\n",
       "    .dataframe tbody tr th:only-of-type {\n",
       "        vertical-align: middle;\n",
       "    }\n",
       "\n",
       "    .dataframe tbody tr th {\n",
       "        vertical-align: top;\n",
       "    }\n",
       "\n",
       "    .dataframe thead th {\n",
       "        text-align: right;\n",
       "    }\n",
       "</style>\n",
       "<table border=\"1\" class=\"dataframe\">\n",
       "  <thead>\n",
       "    <tr style=\"text-align: right;\">\n",
       "      <th></th>\n",
       "      <th>TRANSACTIONID</th>\n",
       "      <th>FLIGHTDATE</th>\n",
       "      <th>AIRLINECODE</th>\n",
       "      <th>AIRLINENAME</th>\n",
       "      <th>TAILNUM</th>\n",
       "      <th>FLIGHTNUM</th>\n",
       "      <th>ORIGINAIRPORTCODE</th>\n",
       "      <th>ORIGAIRPORTNAME</th>\n",
       "      <th>ORIGINCITYNAME</th>\n",
       "      <th>ORIGINSTATE</th>\n",
       "      <th>ORIGINSTATENAME</th>\n",
       "      <th>DESTAIRPORTCODE</th>\n",
       "      <th>DESTAIRPORTNAME</th>\n",
       "      <th>DESTCITYNAME</th>\n",
       "      <th>DESTSTATE</th>\n",
       "      <th>DESTSTATENAME</th>\n",
       "    </tr>\n",
       "  </thead>\n",
       "  <tbody>\n",
       "    <tr>\n",
       "      <th>0</th>\n",
       "      <td>54548800</td>\n",
       "      <td>2002-01-01</td>\n",
       "      <td>WN</td>\n",
       "      <td>Southwest Airlines Co.: WN</td>\n",
       "      <td>N103@@</td>\n",
       "      <td>1425</td>\n",
       "      <td>ABQ</td>\n",
       "      <td>AlbuquerqueNM: Albuquerque International Sunport</td>\n",
       "      <td>Albuquerque</td>\n",
       "      <td>NM</td>\n",
       "      <td>New Mexico</td>\n",
       "      <td>DAL</td>\n",
       "      <td>DallasTX: Dallas Love Field</td>\n",
       "      <td>Dallas</td>\n",
       "      <td>TX</td>\n",
       "      <td>Texas</td>\n",
       "    </tr>\n",
       "    <tr>\n",
       "      <th>1</th>\n",
       "      <td>55872300</td>\n",
       "      <td>2002-01-01</td>\n",
       "      <td>CO</td>\n",
       "      <td>Continental Air Lines Inc.: CO</td>\n",
       "      <td>N83872</td>\n",
       "      <td>150</td>\n",
       "      <td>ABQ</td>\n",
       "      <td>AlbuquerqueNM: Albuquerque International Sunport</td>\n",
       "      <td>Albuquerque</td>\n",
       "      <td>NM</td>\n",
       "      <td>New Mexico</td>\n",
       "      <td>IAH</td>\n",
       "      <td>HoustonTX: George Bush Intercontinental/Houston</td>\n",
       "      <td>Houston</td>\n",
       "      <td>TX</td>\n",
       "      <td>Texas</td>\n",
       "    </tr>\n",
       "    <tr>\n",
       "      <th>2</th>\n",
       "      <td>54388800</td>\n",
       "      <td>2002-01-01</td>\n",
       "      <td>WN</td>\n",
       "      <td>Southwest Airlines Co.: WN</td>\n",
       "      <td>N334@@</td>\n",
       "      <td>249</td>\n",
       "      <td>ABQ</td>\n",
       "      <td>AlbuquerqueNM: Albuquerque International Sunport</td>\n",
       "      <td>Albuquerque</td>\n",
       "      <td>NM</td>\n",
       "      <td>New Mexico</td>\n",
       "      <td>MCI</td>\n",
       "      <td>Kansas CityMO: Kansas City International</td>\n",
       "      <td>Kansas City</td>\n",
       "      <td>MO</td>\n",
       "      <td>Missouri</td>\n",
       "    </tr>\n",
       "    <tr>\n",
       "      <th>3</th>\n",
       "      <td>54486500</td>\n",
       "      <td>2002-01-01</td>\n",
       "      <td>WN</td>\n",
       "      <td>Southwest Airlines Co.: WN</td>\n",
       "      <td>N699@@</td>\n",
       "      <td>902</td>\n",
       "      <td>ABQ</td>\n",
       "      <td>AlbuquerqueNM: Albuquerque International Sunport</td>\n",
       "      <td>Albuquerque</td>\n",
       "      <td>NM</td>\n",
       "      <td>New Mexico</td>\n",
       "      <td>LAS</td>\n",
       "      <td>Las VegasNV: McCarran International</td>\n",
       "      <td>Las Vegas</td>\n",
       "      <td>NV</td>\n",
       "      <td>Nevada</td>\n",
       "    </tr>\n",
       "    <tr>\n",
       "      <th>4</th>\n",
       "      <td>55878700</td>\n",
       "      <td>2002-01-03</td>\n",
       "      <td>CO</td>\n",
       "      <td>Continental Air Lines Inc.: CO</td>\n",
       "      <td>N58606</td>\n",
       "      <td>234</td>\n",
       "      <td>ABQ</td>\n",
       "      <td>AlbuquerqueNM: Albuquerque International Sunport</td>\n",
       "      <td>Albuquerque</td>\n",
       "      <td>NM</td>\n",
       "      <td>New Mexico</td>\n",
       "      <td>IAH</td>\n",
       "      <td>HoustonTX: George Bush Intercontinental/Houston</td>\n",
       "      <td>Houston</td>\n",
       "      <td>TX</td>\n",
       "      <td>Texas</td>\n",
       "    </tr>\n",
       "  </tbody>\n",
       "</table>\n",
       "</div>"
      ],
      "text/plain": [
       "   TRANSACTIONID FLIGHTDATE AIRLINECODE                     AIRLINENAME  \\\n",
       "0       54548800 2002-01-01          WN      Southwest Airlines Co.: WN   \n",
       "1       55872300 2002-01-01          CO  Continental Air Lines Inc.: CO   \n",
       "2       54388800 2002-01-01          WN      Southwest Airlines Co.: WN   \n",
       "3       54486500 2002-01-01          WN      Southwest Airlines Co.: WN   \n",
       "4       55878700 2002-01-03          CO  Continental Air Lines Inc.: CO   \n",
       "\n",
       "  TAILNUM  FLIGHTNUM ORIGINAIRPORTCODE  \\\n",
       "0  N103@@       1425               ABQ   \n",
       "1  N83872        150               ABQ   \n",
       "2  N334@@        249               ABQ   \n",
       "3  N699@@        902               ABQ   \n",
       "4  N58606        234               ABQ   \n",
       "\n",
       "                                    ORIGAIRPORTNAME ORIGINCITYNAME  \\\n",
       "0  AlbuquerqueNM: Albuquerque International Sunport    Albuquerque   \n",
       "1  AlbuquerqueNM: Albuquerque International Sunport    Albuquerque   \n",
       "2  AlbuquerqueNM: Albuquerque International Sunport    Albuquerque   \n",
       "3  AlbuquerqueNM: Albuquerque International Sunport    Albuquerque   \n",
       "4  AlbuquerqueNM: Albuquerque International Sunport    Albuquerque   \n",
       "\n",
       "  ORIGINSTATE ORIGINSTATENAME DESTAIRPORTCODE  \\\n",
       "0          NM      New Mexico             DAL   \n",
       "1          NM      New Mexico             IAH   \n",
       "2          NM      New Mexico             MCI   \n",
       "3          NM      New Mexico             LAS   \n",
       "4          NM      New Mexico             IAH   \n",
       "\n",
       "                                   DESTAIRPORTNAME DESTCITYNAME DESTSTATE  \\\n",
       "0                      DallasTX: Dallas Love Field       Dallas        TX   \n",
       "1  HoustonTX: George Bush Intercontinental/Houston      Houston        TX   \n",
       "2         Kansas CityMO: Kansas City International  Kansas City        MO   \n",
       "3              Las VegasNV: McCarran International    Las Vegas        NV   \n",
       "4  HoustonTX: George Bush Intercontinental/Houston      Houston        TX   \n",
       "\n",
       "  DESTSTATENAME  \n",
       "0         Texas  \n",
       "1         Texas  \n",
       "2      Missouri  \n",
       "3        Nevada  \n",
       "4         Texas  "
      ]
     },
     "execution_count": 6,
     "metadata": {},
     "output_type": "execute_result"
    }
   ],
   "source": [
    "flights.iloc[:,:16].head()"
   ]
  },
  {
   "cell_type": "code",
   "execution_count": 7,
   "id": "938df385",
   "metadata": {},
   "outputs": [
    {
     "data": {
      "text/html": [
       "<div>\n",
       "<style scoped>\n",
       "    .dataframe tbody tr th:only-of-type {\n",
       "        vertical-align: middle;\n",
       "    }\n",
       "\n",
       "    .dataframe tbody tr th {\n",
       "        vertical-align: top;\n",
       "    }\n",
       "\n",
       "    .dataframe thead th {\n",
       "        text-align: right;\n",
       "    }\n",
       "</style>\n",
       "<table border=\"1\" class=\"dataframe\">\n",
       "  <thead>\n",
       "    <tr style=\"text-align: right;\">\n",
       "      <th></th>\n",
       "      <th>CRSDEPTIME</th>\n",
       "      <th>DEPTIME</th>\n",
       "      <th>DEPDELAY</th>\n",
       "      <th>TAXIOUT</th>\n",
       "      <th>WHEELSOFF</th>\n",
       "      <th>WHEELSON</th>\n",
       "      <th>TAXIIN</th>\n",
       "      <th>CRSARRTIME</th>\n",
       "      <th>ARRTIME</th>\n",
       "      <th>ARRDELAY</th>\n",
       "      <th>CRSELAPSEDTIME</th>\n",
       "      <th>ACTUALELAPSEDTIME</th>\n",
       "      <th>CANCELLED</th>\n",
       "      <th>DIVERTED</th>\n",
       "      <th>DISTANCE</th>\n",
       "    </tr>\n",
       "  </thead>\n",
       "  <tbody>\n",
       "    <tr>\n",
       "      <th>0</th>\n",
       "      <td>1425</td>\n",
       "      <td>1425.0</td>\n",
       "      <td>0.0</td>\n",
       "      <td>8.0</td>\n",
       "      <td>1433.0</td>\n",
       "      <td>1648.0</td>\n",
       "      <td>4.0</td>\n",
       "      <td>1655</td>\n",
       "      <td>1652.0</td>\n",
       "      <td>-3.0</td>\n",
       "      <td>90.0</td>\n",
       "      <td>87.0</td>\n",
       "      <td>F</td>\n",
       "      <td>False</td>\n",
       "      <td>580 miles</td>\n",
       "    </tr>\n",
       "    <tr>\n",
       "      <th>1</th>\n",
       "      <td>1130</td>\n",
       "      <td>1136.0</td>\n",
       "      <td>6.0</td>\n",
       "      <td>12.0</td>\n",
       "      <td>1148.0</td>\n",
       "      <td>1419.0</td>\n",
       "      <td>16.0</td>\n",
       "      <td>1426</td>\n",
       "      <td>1435.0</td>\n",
       "      <td>9.0</td>\n",
       "      <td>116.0</td>\n",
       "      <td>119.0</td>\n",
       "      <td>False</td>\n",
       "      <td>F</td>\n",
       "      <td>744 miles</td>\n",
       "    </tr>\n",
       "    <tr>\n",
       "      <th>2</th>\n",
       "      <td>1215</td>\n",
       "      <td>1338.0</td>\n",
       "      <td>83.0</td>\n",
       "      <td>7.0</td>\n",
       "      <td>1345.0</td>\n",
       "      <td>1618.0</td>\n",
       "      <td>2.0</td>\n",
       "      <td>1500</td>\n",
       "      <td>1620.0</td>\n",
       "      <td>80.0</td>\n",
       "      <td>105.0</td>\n",
       "      <td>102.0</td>\n",
       "      <td>F</td>\n",
       "      <td>False</td>\n",
       "      <td>718 miles</td>\n",
       "    </tr>\n",
       "    <tr>\n",
       "      <th>3</th>\n",
       "      <td>1925</td>\n",
       "      <td>1925.0</td>\n",
       "      <td>0.0</td>\n",
       "      <td>5.0</td>\n",
       "      <td>1930.0</td>\n",
       "      <td>1947.0</td>\n",
       "      <td>1.0</td>\n",
       "      <td>1950</td>\n",
       "      <td>1948.0</td>\n",
       "      <td>-2.0</td>\n",
       "      <td>85.0</td>\n",
       "      <td>83.0</td>\n",
       "      <td>0</td>\n",
       "      <td>0</td>\n",
       "      <td>487 miles</td>\n",
       "    </tr>\n",
       "    <tr>\n",
       "      <th>4</th>\n",
       "      <td>1455</td>\n",
       "      <td>1453.0</td>\n",
       "      <td>-2.0</td>\n",
       "      <td>11.0</td>\n",
       "      <td>1504.0</td>\n",
       "      <td>1742.0</td>\n",
       "      <td>5.0</td>\n",
       "      <td>1750</td>\n",
       "      <td>1747.0</td>\n",
       "      <td>-3.0</td>\n",
       "      <td>115.0</td>\n",
       "      <td>114.0</td>\n",
       "      <td>F</td>\n",
       "      <td>False</td>\n",
       "      <td>744 miles</td>\n",
       "    </tr>\n",
       "    <tr>\n",
       "      <th>...</th>\n",
       "      <td>...</td>\n",
       "      <td>...</td>\n",
       "      <td>...</td>\n",
       "      <td>...</td>\n",
       "      <td>...</td>\n",
       "      <td>...</td>\n",
       "      <td>...</td>\n",
       "      <td>...</td>\n",
       "      <td>...</td>\n",
       "      <td>...</td>\n",
       "      <td>...</td>\n",
       "      <td>...</td>\n",
       "      <td>...</td>\n",
       "      <td>...</td>\n",
       "      <td>...</td>\n",
       "    </tr>\n",
       "    <tr>\n",
       "      <th>1191800</th>\n",
       "      <td>1357</td>\n",
       "      <td>1348.0</td>\n",
       "      <td>-9.0</td>\n",
       "      <td>22.0</td>\n",
       "      <td>1410.0</td>\n",
       "      <td>1500.0</td>\n",
       "      <td>3.0</td>\n",
       "      <td>1523</td>\n",
       "      <td>1503.0</td>\n",
       "      <td>-20.0</td>\n",
       "      <td>146.0</td>\n",
       "      <td>135.0</td>\n",
       "      <td>0</td>\n",
       "      <td>0</td>\n",
       "      <td>721 miles</td>\n",
       "    </tr>\n",
       "    <tr>\n",
       "      <th>1191801</th>\n",
       "      <td>2150</td>\n",
       "      <td>2147.0</td>\n",
       "      <td>-3.0</td>\n",
       "      <td>23.0</td>\n",
       "      <td>2210.0</td>\n",
       "      <td>2307.0</td>\n",
       "      <td>10.0</td>\n",
       "      <td>2321</td>\n",
       "      <td>2317.0</td>\n",
       "      <td>-4.0</td>\n",
       "      <td>151.0</td>\n",
       "      <td>150.0</td>\n",
       "      <td>False</td>\n",
       "      <td>F</td>\n",
       "      <td>731 miles</td>\n",
       "    </tr>\n",
       "    <tr>\n",
       "      <th>1191802</th>\n",
       "      <td>1617</td>\n",
       "      <td>1617.0</td>\n",
       "      <td>0.0</td>\n",
       "      <td>18.0</td>\n",
       "      <td>1635.0</td>\n",
       "      <td>1728.0</td>\n",
       "      <td>9.0</td>\n",
       "      <td>1750</td>\n",
       "      <td>1737.0</td>\n",
       "      <td>-13.0</td>\n",
       "      <td>153.0</td>\n",
       "      <td>140.0</td>\n",
       "      <td>F</td>\n",
       "      <td>False</td>\n",
       "      <td>731 miles</td>\n",
       "    </tr>\n",
       "    <tr>\n",
       "      <th>1191803</th>\n",
       "      <td>1516</td>\n",
       "      <td>1514.0</td>\n",
       "      <td>-2.0</td>\n",
       "      <td>21.0</td>\n",
       "      <td>1535.0</td>\n",
       "      <td>1651.0</td>\n",
       "      <td>4.0</td>\n",
       "      <td>1658</td>\n",
       "      <td>1655.0</td>\n",
       "      <td>-3.0</td>\n",
       "      <td>102.0</td>\n",
       "      <td>101.0</td>\n",
       "      <td>False</td>\n",
       "      <td>F</td>\n",
       "      <td>508 miles</td>\n",
       "    </tr>\n",
       "    <tr>\n",
       "      <th>1191804</th>\n",
       "      <td>1452</td>\n",
       "      <td>1458.0</td>\n",
       "      <td>6.0</td>\n",
       "      <td>27.0</td>\n",
       "      <td>1525.0</td>\n",
       "      <td>1611.0</td>\n",
       "      <td>4.0</td>\n",
       "      <td>1609</td>\n",
       "      <td>1615.0</td>\n",
       "      <td>6.0</td>\n",
       "      <td>77.0</td>\n",
       "      <td>77.0</td>\n",
       "      <td>False</td>\n",
       "      <td>False</td>\n",
       "      <td>306 miles</td>\n",
       "    </tr>\n",
       "  </tbody>\n",
       "</table>\n",
       "<p>1191805 rows × 15 columns</p>\n",
       "</div>"
      ],
      "text/plain": [
       "         CRSDEPTIME  DEPTIME  DEPDELAY  TAXIOUT  WHEELSOFF  WHEELSON  TAXIIN  \\\n",
       "0              1425   1425.0       0.0      8.0     1433.0    1648.0     4.0   \n",
       "1              1130   1136.0       6.0     12.0     1148.0    1419.0    16.0   \n",
       "2              1215   1338.0      83.0      7.0     1345.0    1618.0     2.0   \n",
       "3              1925   1925.0       0.0      5.0     1930.0    1947.0     1.0   \n",
       "4              1455   1453.0      -2.0     11.0     1504.0    1742.0     5.0   \n",
       "...             ...      ...       ...      ...        ...       ...     ...   \n",
       "1191800        1357   1348.0      -9.0     22.0     1410.0    1500.0     3.0   \n",
       "1191801        2150   2147.0      -3.0     23.0     2210.0    2307.0    10.0   \n",
       "1191802        1617   1617.0       0.0     18.0     1635.0    1728.0     9.0   \n",
       "1191803        1516   1514.0      -2.0     21.0     1535.0    1651.0     4.0   \n",
       "1191804        1452   1458.0       6.0     27.0     1525.0    1611.0     4.0   \n",
       "\n",
       "         CRSARRTIME  ARRTIME  ARRDELAY  CRSELAPSEDTIME  ACTUALELAPSEDTIME  \\\n",
       "0              1655   1652.0      -3.0            90.0               87.0   \n",
       "1              1426   1435.0       9.0           116.0              119.0   \n",
       "2              1500   1620.0      80.0           105.0              102.0   \n",
       "3              1950   1948.0      -2.0            85.0               83.0   \n",
       "4              1750   1747.0      -3.0           115.0              114.0   \n",
       "...             ...      ...       ...             ...                ...   \n",
       "1191800        1523   1503.0     -20.0           146.0              135.0   \n",
       "1191801        2321   2317.0      -4.0           151.0              150.0   \n",
       "1191802        1750   1737.0     -13.0           153.0              140.0   \n",
       "1191803        1658   1655.0      -3.0           102.0              101.0   \n",
       "1191804        1609   1615.0       6.0            77.0               77.0   \n",
       "\n",
       "        CANCELLED DIVERTED   DISTANCE  \n",
       "0               F    False  580 miles  \n",
       "1           False        F  744 miles  \n",
       "2               F    False  718 miles  \n",
       "3               0        0  487 miles  \n",
       "4               F    False  744 miles  \n",
       "...           ...      ...        ...  \n",
       "1191800         0        0  721 miles  \n",
       "1191801     False        F  731 miles  \n",
       "1191802         F    False  731 miles  \n",
       "1191803     False        F  508 miles  \n",
       "1191804     False    False  306 miles  \n",
       "\n",
       "[1191805 rows x 15 columns]"
      ]
     },
     "execution_count": 7,
     "metadata": {},
     "output_type": "execute_result"
    }
   ],
   "source": [
    "flights.iloc[:,16:]"
   ]
  },
  {
   "cell_type": "code",
   "execution_count": 8,
   "id": "f261bfc9",
   "metadata": {},
   "outputs": [
    {
     "data": {
      "text/plain": [
       "Index(['TRANSACTIONID', 'FLIGHTDATE', 'AIRLINECODE', 'AIRLINENAME', 'TAILNUM',\n",
       "       'FLIGHTNUM', 'ORIGINAIRPORTCODE', 'ORIGAIRPORTNAME', 'ORIGINCITYNAME',\n",
       "       'ORIGINSTATE', 'ORIGINSTATENAME', 'DESTAIRPORTCODE', 'DESTAIRPORTNAME',\n",
       "       'DESTCITYNAME', 'DESTSTATE', 'DESTSTATENAME', 'CRSDEPTIME', 'DEPTIME',\n",
       "       'DEPDELAY', 'TAXIOUT', 'WHEELSOFF', 'WHEELSON', 'TAXIIN', 'CRSARRTIME',\n",
       "       'ARRTIME', 'ARRDELAY', 'CRSELAPSEDTIME', 'ACTUALELAPSEDTIME',\n",
       "       'CANCELLED', 'DIVERTED', 'DISTANCE'],\n",
       "      dtype='object')"
      ]
     },
     "execution_count": 8,
     "metadata": {},
     "output_type": "execute_result"
    }
   ],
   "source": [
    "flights.columns"
   ]
  },
  {
   "cell_type": "markdown",
   "id": "1fe51ce2",
   "metadata": {},
   "source": [
    "## Manipulating and organizing data"
   ]
  },
  {
   "cell_type": "code",
   "execution_count": 9,
   "id": "584e0f61",
   "metadata": {},
   "outputs": [],
   "source": [
    "flights['TOTALDELAY'] = flights['DEPDELAY'] + flights['ARRDELAY']"
   ]
  },
  {
   "cell_type": "code",
   "execution_count": 10,
   "id": "39bcb18c",
   "metadata": {},
   "outputs": [],
   "source": [
    "flights['TOTALTAXITIME'] = flights['TAXIIN'] + flights['TAXIOUT']"
   ]
  },
  {
   "cell_type": "code",
   "execution_count": 11,
   "id": "e2dd1834",
   "metadata": {},
   "outputs": [],
   "source": [
    "flights['DISTANCEMILES'] = pd.DataFrame(flights['DISTANCE'].str.split().tolist())[0].astype('float64')"
   ]
  },
  {
   "cell_type": "code",
   "execution_count": 12,
   "id": "6e479493",
   "metadata": {},
   "outputs": [],
   "source": [
    "flights['VELOCITYMPH'] = flights['DISTANCEMILES'] / (flights['ACTUALELAPSEDTIME']/60)"
   ]
  },
  {
   "cell_type": "code",
   "execution_count": 13,
   "id": "672ce5b2",
   "metadata": {},
   "outputs": [],
   "source": [
    "flights['CANCELLED'] = flights['CANCELLED'].str.replace(\"False\",\"0\").replace(\"F\",\"0\").replace(\"True\",\"1\").replace(\"T\",\"1\").astype(\"int64\")"
   ]
  },
  {
   "cell_type": "markdown",
   "id": "9df24fb4",
   "metadata": {},
   "source": [
    "### Selecting features and grouping data by airlines"
   ]
  },
  {
   "cell_type": "code",
   "execution_count": 14,
   "id": "88efb1f3",
   "metadata": {},
   "outputs": [],
   "source": [
    "columns = ['AIRLINENAME','TOTALDELAY','TOTALTAXITIME','VELOCITYMPH','CANCELLED']"
   ]
  },
  {
   "cell_type": "code",
   "execution_count": 15,
   "id": "1e944c89",
   "metadata": {},
   "outputs": [],
   "source": [
    "flights_airlines = flights.loc[:,columns]"
   ]
  },
  {
   "cell_type": "code",
   "execution_count": 16,
   "id": "047240a5",
   "metadata": {},
   "outputs": [
    {
     "data": {
      "text/plain": [
       "AIRLINENAME       object\n",
       "TOTALDELAY       float64\n",
       "TOTALTAXITIME    float64\n",
       "VELOCITYMPH      float64\n",
       "CANCELLED          int64\n",
       "dtype: object"
      ]
     },
     "execution_count": 16,
     "metadata": {},
     "output_type": "execute_result"
    }
   ],
   "source": [
    "flights_airlines.dtypes"
   ]
  },
  {
   "cell_type": "markdown",
   "id": "c27f5961",
   "metadata": {},
   "source": [
    "#### Cancellation rate"
   ]
  },
  {
   "cell_type": "code",
   "execution_count": 17,
   "id": "04431fb2",
   "metadata": {},
   "outputs": [],
   "source": [
    "cancelled = pd.DataFrame(flights_airlines.groupby(\"CANCELLED\")['AIRLINENAME'].value_counts()[1])\n",
    "completed = pd.DataFrame(flights_airlines.groupby(\"CANCELLED\")['AIRLINENAME'].value_counts()[0])"
   ]
  },
  {
   "cell_type": "code",
   "execution_count": 18,
   "id": "5b78ce77",
   "metadata": {},
   "outputs": [],
   "source": [
    "cancelled = cancelled.rename(columns={'AIRLINENAME':'CANCELLED'}).reset_index()\n",
    "completed = completed.rename(columns={'AIRLINENAME':'COMPLETED'}).reset_index()"
   ]
  },
  {
   "cell_type": "code",
   "execution_count": 19,
   "id": "6eb86513",
   "metadata": {},
   "outputs": [
    {
     "data": {
      "text/html": [
       "<div>\n",
       "<style scoped>\n",
       "    .dataframe tbody tr th:only-of-type {\n",
       "        vertical-align: middle;\n",
       "    }\n",
       "\n",
       "    .dataframe tbody tr th {\n",
       "        vertical-align: top;\n",
       "    }\n",
       "\n",
       "    .dataframe thead th {\n",
       "        text-align: right;\n",
       "    }\n",
       "</style>\n",
       "<table border=\"1\" class=\"dataframe\">\n",
       "  <thead>\n",
       "    <tr style=\"text-align: right;\">\n",
       "      <th></th>\n",
       "      <th>AIRLINENAME</th>\n",
       "      <th>CANCELLED</th>\n",
       "    </tr>\n",
       "  </thead>\n",
       "  <tbody>\n",
       "    <tr>\n",
       "      <th>0</th>\n",
       "      <td>American Airlines Inc.: AA</td>\n",
       "      <td>3624</td>\n",
       "    </tr>\n",
       "    <tr>\n",
       "      <th>1</th>\n",
       "      <td>US Airways Inc.: US (Merged with America West ...</td>\n",
       "      <td>3399</td>\n",
       "    </tr>\n",
       "    <tr>\n",
       "      <th>2</th>\n",
       "      <td>United Air Lines Inc.: UA</td>\n",
       "      <td>3316</td>\n",
       "    </tr>\n",
       "    <tr>\n",
       "      <th>3</th>\n",
       "      <td>Delta Air Lines Inc.: DL</td>\n",
       "      <td>3303</td>\n",
       "    </tr>\n",
       "    <tr>\n",
       "      <th>4</th>\n",
       "      <td>Northwest Airlines Inc.: NW</td>\n",
       "      <td>2795</td>\n",
       "    </tr>\n",
       "  </tbody>\n",
       "</table>\n",
       "</div>"
      ],
      "text/plain": [
       "                                         AIRLINENAME  CANCELLED\n",
       "0                         American Airlines Inc.: AA       3624\n",
       "1  US Airways Inc.: US (Merged with America West ...       3399\n",
       "2                          United Air Lines Inc.: UA       3316\n",
       "3                           Delta Air Lines Inc.: DL       3303\n",
       "4                        Northwest Airlines Inc.: NW       2795"
      ]
     },
     "execution_count": 19,
     "metadata": {},
     "output_type": "execute_result"
    }
   ],
   "source": [
    "cancelled.head()"
   ]
  },
  {
   "cell_type": "code",
   "execution_count": 20,
   "id": "92a1a375",
   "metadata": {},
   "outputs": [
    {
     "data": {
      "text/html": [
       "<div>\n",
       "<style scoped>\n",
       "    .dataframe tbody tr th:only-of-type {\n",
       "        vertical-align: middle;\n",
       "    }\n",
       "\n",
       "    .dataframe tbody tr th {\n",
       "        vertical-align: top;\n",
       "    }\n",
       "\n",
       "    .dataframe thead th {\n",
       "        text-align: right;\n",
       "    }\n",
       "</style>\n",
       "<table border=\"1\" class=\"dataframe\">\n",
       "  <thead>\n",
       "    <tr style=\"text-align: right;\">\n",
       "      <th></th>\n",
       "      <th>AIRLINENAME</th>\n",
       "      <th>COMPLETED</th>\n",
       "    </tr>\n",
       "  </thead>\n",
       "  <tbody>\n",
       "    <tr>\n",
       "      <th>0</th>\n",
       "      <td>Southwest Airlines Co.: WN</td>\n",
       "      <td>187435</td>\n",
       "    </tr>\n",
       "    <tr>\n",
       "      <th>1</th>\n",
       "      <td>Delta Air Lines Inc.: DL</td>\n",
       "      <td>163298</td>\n",
       "    </tr>\n",
       "    <tr>\n",
       "      <th>2</th>\n",
       "      <td>American Airlines Inc.: AA</td>\n",
       "      <td>136158</td>\n",
       "    </tr>\n",
       "    <tr>\n",
       "      <th>3</th>\n",
       "      <td>United Air Lines Inc.: UA</td>\n",
       "      <td>118488</td>\n",
       "    </tr>\n",
       "    <tr>\n",
       "      <th>4</th>\n",
       "      <td>US Airways Inc.: US (Merged with America West ...</td>\n",
       "      <td>114862</td>\n",
       "    </tr>\n",
       "  </tbody>\n",
       "</table>\n",
       "</div>"
      ],
      "text/plain": [
       "                                         AIRLINENAME  COMPLETED\n",
       "0                         Southwest Airlines Co.: WN     187435\n",
       "1                           Delta Air Lines Inc.: DL     163298\n",
       "2                         American Airlines Inc.: AA     136158\n",
       "3                          United Air Lines Inc.: UA     118488\n",
       "4  US Airways Inc.: US (Merged with America West ...     114862"
      ]
     },
     "execution_count": 20,
     "metadata": {},
     "output_type": "execute_result"
    }
   ],
   "source": [
    "completed.head()"
   ]
  },
  {
   "cell_type": "code",
   "execution_count": 21,
   "id": "3d21f829",
   "metadata": {},
   "outputs": [],
   "source": [
    "c_rate = cancelled.merge(completed, on=\"AIRLINENAME\")\n",
    "c_rate['CANCELLATION RATE'] = c_rate['CANCELLED'] / (c_rate['CANCELLED'] + c_rate['COMPLETED'])"
   ]
  },
  {
   "cell_type": "code",
   "execution_count": 22,
   "id": "37206420",
   "metadata": {},
   "outputs": [
    {
     "data": {
      "text/html": [
       "<div>\n",
       "<style scoped>\n",
       "    .dataframe tbody tr th:only-of-type {\n",
       "        vertical-align: middle;\n",
       "    }\n",
       "\n",
       "    .dataframe tbody tr th {\n",
       "        vertical-align: top;\n",
       "    }\n",
       "\n",
       "    .dataframe thead th {\n",
       "        text-align: right;\n",
       "    }\n",
       "</style>\n",
       "<table border=\"1\" class=\"dataframe\">\n",
       "  <thead>\n",
       "    <tr style=\"text-align: right;\">\n",
       "      <th></th>\n",
       "      <th>AIRLINENAME</th>\n",
       "      <th>CANCELLED</th>\n",
       "      <th>COMPLETED</th>\n",
       "      <th>CANCELLATION RATE</th>\n",
       "    </tr>\n",
       "  </thead>\n",
       "  <tbody>\n",
       "    <tr>\n",
       "      <th>0</th>\n",
       "      <td>American Airlines Inc.: AA</td>\n",
       "      <td>3624</td>\n",
       "      <td>136158</td>\n",
       "      <td>0.025926</td>\n",
       "    </tr>\n",
       "    <tr>\n",
       "      <th>1</th>\n",
       "      <td>US Airways Inc.: US (Merged with America West ...</td>\n",
       "      <td>3399</td>\n",
       "      <td>114862</td>\n",
       "      <td>0.028742</td>\n",
       "    </tr>\n",
       "    <tr>\n",
       "      <th>2</th>\n",
       "      <td>United Air Lines Inc.: UA</td>\n",
       "      <td>3316</td>\n",
       "      <td>118488</td>\n",
       "      <td>0.027224</td>\n",
       "    </tr>\n",
       "    <tr>\n",
       "      <th>3</th>\n",
       "      <td>Delta Air Lines Inc.: DL</td>\n",
       "      <td>3303</td>\n",
       "      <td>163298</td>\n",
       "      <td>0.019826</td>\n",
       "    </tr>\n",
       "    <tr>\n",
       "      <th>4</th>\n",
       "      <td>Northwest Airlines Inc.: NW</td>\n",
       "      <td>2795</td>\n",
       "      <td>66401</td>\n",
       "      <td>0.040393</td>\n",
       "    </tr>\n",
       "  </tbody>\n",
       "</table>\n",
       "</div>"
      ],
      "text/plain": [
       "                                         AIRLINENAME  CANCELLED  COMPLETED  \\\n",
       "0                         American Airlines Inc.: AA       3624     136158   \n",
       "1  US Airways Inc.: US (Merged with America West ...       3399     114862   \n",
       "2                          United Air Lines Inc.: UA       3316     118488   \n",
       "3                           Delta Air Lines Inc.: DL       3303     163298   \n",
       "4                        Northwest Airlines Inc.: NW       2795      66401   \n",
       "\n",
       "   CANCELLATION RATE  \n",
       "0           0.025926  \n",
       "1           0.028742  \n",
       "2           0.027224  \n",
       "3           0.019826  \n",
       "4           0.040393  "
      ]
     },
     "execution_count": 22,
     "metadata": {},
     "output_type": "execute_result"
    }
   ],
   "source": [
    "c_rate.head()"
   ]
  },
  {
   "cell_type": "code",
   "execution_count": 23,
   "id": "6d78c82b",
   "metadata": {},
   "outputs": [
    {
     "data": {
      "text/plain": [
       "(26, 4)"
      ]
     },
     "execution_count": 23,
     "metadata": {},
     "output_type": "execute_result"
    }
   ],
   "source": [
    "c_rate.shape"
   ]
  },
  {
   "cell_type": "markdown",
   "id": "4b5136a4",
   "metadata": {},
   "source": [
    "#### Obteining Mean Data"
   ]
  },
  {
   "cell_type": "code",
   "execution_count": 24,
   "id": "496f778e",
   "metadata": {},
   "outputs": [],
   "source": [
    "flights_airlines = flights_airlines.groupby('AIRLINENAME').agg({'TOTALDELAY':np.mean,'TOTALTAXITIME':np.mean,'VELOCITYMPH':np.mean})"
   ]
  },
  {
   "cell_type": "code",
   "execution_count": 25,
   "id": "ee90184a",
   "metadata": {},
   "outputs": [],
   "source": [
    "flights_airlines.reset_index(inplace=True)"
   ]
  },
  {
   "cell_type": "code",
   "execution_count": 26,
   "id": "69f76062",
   "metadata": {},
   "outputs": [
    {
     "data": {
      "text/html": [
       "<div>\n",
       "<style scoped>\n",
       "    .dataframe tbody tr th:only-of-type {\n",
       "        vertical-align: middle;\n",
       "    }\n",
       "\n",
       "    .dataframe tbody tr th {\n",
       "        vertical-align: top;\n",
       "    }\n",
       "\n",
       "    .dataframe thead th {\n",
       "        text-align: right;\n",
       "    }\n",
       "</style>\n",
       "<table border=\"1\" class=\"dataframe\">\n",
       "  <thead>\n",
       "    <tr style=\"text-align: right;\">\n",
       "      <th></th>\n",
       "      <th>AIRLINENAME</th>\n",
       "      <th>TOTALDELAY</th>\n",
       "      <th>TOTALTAXITIME</th>\n",
       "      <th>VELOCITYMPH</th>\n",
       "    </tr>\n",
       "  </thead>\n",
       "  <tbody>\n",
       "    <tr>\n",
       "      <th>0</th>\n",
       "      <td>ATA Airlines d/b/a ATA: TZ</td>\n",
       "      <td>8.926534</td>\n",
       "      <td>25.062054</td>\n",
       "      <td>372.300702</td>\n",
       "    </tr>\n",
       "    <tr>\n",
       "      <th>1</th>\n",
       "      <td>AirTran Airways Corporation: FL</td>\n",
       "      <td>7.135774</td>\n",
       "      <td>22.518651</td>\n",
       "      <td>333.657270</td>\n",
       "    </tr>\n",
       "    <tr>\n",
       "      <th>2</th>\n",
       "      <td>Alaska Airlines Inc.: AS</td>\n",
       "      <td>7.083628</td>\n",
       "      <td>18.470044</td>\n",
       "      <td>354.610812</td>\n",
       "    </tr>\n",
       "    <tr>\n",
       "      <th>3</th>\n",
       "      <td>Aloha Airlines Inc.: AQ</td>\n",
       "      <td>2.056818</td>\n",
       "      <td>10.756494</td>\n",
       "      <td>222.482146</td>\n",
       "    </tr>\n",
       "    <tr>\n",
       "      <th>4</th>\n",
       "      <td>America West Airlines Inc.: HP (Merged with US...</td>\n",
       "      <td>15.274335</td>\n",
       "      <td>20.433545</td>\n",
       "      <td>332.995769</td>\n",
       "    </tr>\n",
       "  </tbody>\n",
       "</table>\n",
       "</div>"
      ],
      "text/plain": [
       "                                         AIRLINENAME  TOTALDELAY  \\\n",
       "0                         ATA Airlines d/b/a ATA: TZ    8.926534   \n",
       "1                    AirTran Airways Corporation: FL    7.135774   \n",
       "2                           Alaska Airlines Inc.: AS    7.083628   \n",
       "3                            Aloha Airlines Inc.: AQ    2.056818   \n",
       "4  America West Airlines Inc.: HP (Merged with US...   15.274335   \n",
       "\n",
       "   TOTALTAXITIME  VELOCITYMPH  \n",
       "0      25.062054   372.300702  \n",
       "1      22.518651   333.657270  \n",
       "2      18.470044   354.610812  \n",
       "3      10.756494   222.482146  \n",
       "4      20.433545   332.995769  "
      ]
     },
     "execution_count": 26,
     "metadata": {},
     "output_type": "execute_result"
    }
   ],
   "source": [
    "flights_airlines.head()"
   ]
  },
  {
   "cell_type": "code",
   "execution_count": 27,
   "id": "058abe14",
   "metadata": {},
   "outputs": [
    {
     "data": {
      "text/plain": [
       "(26, 4)"
      ]
     },
     "execution_count": 27,
     "metadata": {},
     "output_type": "execute_result"
    }
   ],
   "source": [
    "flights_airlines.shape"
   ]
  },
  {
   "cell_type": "markdown",
   "id": "624b9ef6",
   "metadata": {},
   "source": [
    "#### Adding cancellation rate & renaming columns"
   ]
  },
  {
   "cell_type": "code",
   "execution_count": 28,
   "id": "d52c2c35",
   "metadata": {},
   "outputs": [],
   "source": [
    "flights_airlines = flights_airlines.merge(c_rate[['AIRLINENAME','CANCELLATION RATE']], on=\"AIRLINENAME\", how=\"left\")"
   ]
  },
  {
   "cell_type": "code",
   "execution_count": 29,
   "id": "1cf4d30d",
   "metadata": {},
   "outputs": [],
   "source": [
    "flights_airlines.rename(columns={'TOTALDELAY':'AVG DELAY TIME', 'TOTALTAXITIME':'AVG TAXI TIME'}, inplace=True)"
   ]
  },
  {
   "cell_type": "code",
   "execution_count": 30,
   "id": "aa39d1fd",
   "metadata": {},
   "outputs": [
    {
     "data": {
      "text/html": [
       "<div>\n",
       "<style scoped>\n",
       "    .dataframe tbody tr th:only-of-type {\n",
       "        vertical-align: middle;\n",
       "    }\n",
       "\n",
       "    .dataframe tbody tr th {\n",
       "        vertical-align: top;\n",
       "    }\n",
       "\n",
       "    .dataframe thead th {\n",
       "        text-align: right;\n",
       "    }\n",
       "</style>\n",
       "<table border=\"1\" class=\"dataframe\">\n",
       "  <thead>\n",
       "    <tr style=\"text-align: right;\">\n",
       "      <th></th>\n",
       "      <th>AIRLINENAME</th>\n",
       "      <th>AVG DELAY TIME</th>\n",
       "      <th>AVG TAXI TIME</th>\n",
       "      <th>VELOCITYMPH</th>\n",
       "      <th>CANCELLATION RATE</th>\n",
       "    </tr>\n",
       "  </thead>\n",
       "  <tbody>\n",
       "    <tr>\n",
       "      <th>0</th>\n",
       "      <td>ATA Airlines d/b/a ATA: TZ</td>\n",
       "      <td>8.926534</td>\n",
       "      <td>25.062054</td>\n",
       "      <td>372.300702</td>\n",
       "      <td>0.011972</td>\n",
       "    </tr>\n",
       "    <tr>\n",
       "      <th>1</th>\n",
       "      <td>AirTran Airways Corporation: FL</td>\n",
       "      <td>7.135774</td>\n",
       "      <td>22.518651</td>\n",
       "      <td>333.657270</td>\n",
       "      <td>0.011662</td>\n",
       "    </tr>\n",
       "    <tr>\n",
       "      <th>2</th>\n",
       "      <td>Alaska Airlines Inc.: AS</td>\n",
       "      <td>7.083628</td>\n",
       "      <td>18.470044</td>\n",
       "      <td>354.610812</td>\n",
       "      <td>0.021652</td>\n",
       "    </tr>\n",
       "    <tr>\n",
       "      <th>3</th>\n",
       "      <td>Aloha Airlines Inc.: AQ</td>\n",
       "      <td>2.056818</td>\n",
       "      <td>10.756494</td>\n",
       "      <td>222.482146</td>\n",
       "      <td>0.044961</td>\n",
       "    </tr>\n",
       "    <tr>\n",
       "      <th>4</th>\n",
       "      <td>America West Airlines Inc.: HP (Merged with US...</td>\n",
       "      <td>15.274335</td>\n",
       "      <td>20.433545</td>\n",
       "      <td>332.995769</td>\n",
       "      <td>0.021223</td>\n",
       "    </tr>\n",
       "  </tbody>\n",
       "</table>\n",
       "</div>"
      ],
      "text/plain": [
       "                                         AIRLINENAME  AVG DELAY TIME  \\\n",
       "0                         ATA Airlines d/b/a ATA: TZ        8.926534   \n",
       "1                    AirTran Airways Corporation: FL        7.135774   \n",
       "2                           Alaska Airlines Inc.: AS        7.083628   \n",
       "3                            Aloha Airlines Inc.: AQ        2.056818   \n",
       "4  America West Airlines Inc.: HP (Merged with US...       15.274335   \n",
       "\n",
       "   AVG TAXI TIME  VELOCITYMPH  CANCELLATION RATE  \n",
       "0      25.062054   372.300702           0.011972  \n",
       "1      22.518651   333.657270           0.011662  \n",
       "2      18.470044   354.610812           0.021652  \n",
       "3      10.756494   222.482146           0.044961  \n",
       "4      20.433545   332.995769           0.021223  "
      ]
     },
     "execution_count": 30,
     "metadata": {},
     "output_type": "execute_result"
    }
   ],
   "source": [
    "flights_airlines.head()"
   ]
  },
  {
   "cell_type": "code",
   "execution_count": 31,
   "id": "00c89119",
   "metadata": {},
   "outputs": [
    {
     "data": {
      "text/plain": [
       "(26, 5)"
      ]
     },
     "execution_count": 31,
     "metadata": {},
     "output_type": "execute_result"
    }
   ],
   "source": [
    "flights_airlines.shape"
   ]
  },
  {
   "cell_type": "markdown",
   "id": "dadcd1b8",
   "metadata": {},
   "source": [
    "## Input data"
   ]
  },
  {
   "cell_type": "code",
   "execution_count": 32,
   "id": "93b40c13",
   "metadata": {},
   "outputs": [],
   "source": [
    "X = flights_airlines.iloc[:,1:]"
   ]
  },
  {
   "cell_type": "code",
   "execution_count": 33,
   "id": "16f2834c",
   "metadata": {},
   "outputs": [
    {
     "data": {
      "text/html": [
       "<div>\n",
       "<style scoped>\n",
       "    .dataframe tbody tr th:only-of-type {\n",
       "        vertical-align: middle;\n",
       "    }\n",
       "\n",
       "    .dataframe tbody tr th {\n",
       "        vertical-align: top;\n",
       "    }\n",
       "\n",
       "    .dataframe thead th {\n",
       "        text-align: right;\n",
       "    }\n",
       "</style>\n",
       "<table border=\"1\" class=\"dataframe\">\n",
       "  <thead>\n",
       "    <tr style=\"text-align: right;\">\n",
       "      <th></th>\n",
       "      <th>AVG DELAY TIME</th>\n",
       "      <th>AVG TAXI TIME</th>\n",
       "      <th>VELOCITYMPH</th>\n",
       "      <th>CANCELLATION RATE</th>\n",
       "    </tr>\n",
       "  </thead>\n",
       "  <tbody>\n",
       "    <tr>\n",
       "      <th>0</th>\n",
       "      <td>8.926534</td>\n",
       "      <td>25.062054</td>\n",
       "      <td>372.300702</td>\n",
       "      <td>0.011972</td>\n",
       "    </tr>\n",
       "    <tr>\n",
       "      <th>1</th>\n",
       "      <td>7.135774</td>\n",
       "      <td>22.518651</td>\n",
       "      <td>333.657270</td>\n",
       "      <td>0.011662</td>\n",
       "    </tr>\n",
       "    <tr>\n",
       "      <th>2</th>\n",
       "      <td>7.083628</td>\n",
       "      <td>18.470044</td>\n",
       "      <td>354.610812</td>\n",
       "      <td>0.021652</td>\n",
       "    </tr>\n",
       "    <tr>\n",
       "      <th>3</th>\n",
       "      <td>2.056818</td>\n",
       "      <td>10.756494</td>\n",
       "      <td>222.482146</td>\n",
       "      <td>0.044961</td>\n",
       "    </tr>\n",
       "    <tr>\n",
       "      <th>4</th>\n",
       "      <td>15.274335</td>\n",
       "      <td>20.433545</td>\n",
       "      <td>332.995769</td>\n",
       "      <td>0.021223</td>\n",
       "    </tr>\n",
       "  </tbody>\n",
       "</table>\n",
       "</div>"
      ],
      "text/plain": [
       "   AVG DELAY TIME  AVG TAXI TIME  VELOCITYMPH  CANCELLATION RATE\n",
       "0        8.926534      25.062054   372.300702           0.011972\n",
       "1        7.135774      22.518651   333.657270           0.011662\n",
       "2        7.083628      18.470044   354.610812           0.021652\n",
       "3        2.056818      10.756494   222.482146           0.044961\n",
       "4       15.274335      20.433545   332.995769           0.021223"
      ]
     },
     "execution_count": 33,
     "metadata": {},
     "output_type": "execute_result"
    }
   ],
   "source": [
    "X.head()"
   ]
  },
  {
   "cell_type": "markdown",
   "id": "15aadc48",
   "metadata": {},
   "source": [
    "### Pearson correlation"
   ]
  },
  {
   "cell_type": "code",
   "execution_count": 34,
   "id": "866cbd8b",
   "metadata": {},
   "outputs": [
    {
     "data": {
      "text/html": [
       "<div>\n",
       "<style scoped>\n",
       "    .dataframe tbody tr th:only-of-type {\n",
       "        vertical-align: middle;\n",
       "    }\n",
       "\n",
       "    .dataframe tbody tr th {\n",
       "        vertical-align: top;\n",
       "    }\n",
       "\n",
       "    .dataframe thead th {\n",
       "        text-align: right;\n",
       "    }\n",
       "</style>\n",
       "<table border=\"1\" class=\"dataframe\">\n",
       "  <thead>\n",
       "    <tr style=\"text-align: right;\">\n",
       "      <th></th>\n",
       "      <th>AVG DELAY TIME</th>\n",
       "      <th>AVG TAXI TIME</th>\n",
       "      <th>VELOCITYMPH</th>\n",
       "      <th>CANCELLATION RATE</th>\n",
       "    </tr>\n",
       "  </thead>\n",
       "  <tbody>\n",
       "    <tr>\n",
       "      <th>AVG DELAY TIME</th>\n",
       "      <td>1.000000</td>\n",
       "      <td>0.418180</td>\n",
       "      <td>0.320212</td>\n",
       "      <td>0.093322</td>\n",
       "    </tr>\n",
       "    <tr>\n",
       "      <th>AVG TAXI TIME</th>\n",
       "      <td>0.418180</td>\n",
       "      <td>1.000000</td>\n",
       "      <td>0.172290</td>\n",
       "      <td>0.017236</td>\n",
       "    </tr>\n",
       "    <tr>\n",
       "      <th>VELOCITYMPH</th>\n",
       "      <td>0.320212</td>\n",
       "      <td>0.172290</td>\n",
       "      <td>1.000000</td>\n",
       "      <td>-0.483440</td>\n",
       "    </tr>\n",
       "    <tr>\n",
       "      <th>CANCELLATION RATE</th>\n",
       "      <td>0.093322</td>\n",
       "      <td>0.017236</td>\n",
       "      <td>-0.483440</td>\n",
       "      <td>1.000000</td>\n",
       "    </tr>\n",
       "  </tbody>\n",
       "</table>\n",
       "</div>"
      ],
      "text/plain": [
       "                   AVG DELAY TIME  AVG TAXI TIME  VELOCITYMPH  \\\n",
       "AVG DELAY TIME           1.000000       0.418180     0.320212   \n",
       "AVG TAXI TIME            0.418180       1.000000     0.172290   \n",
       "VELOCITYMPH              0.320212       0.172290     1.000000   \n",
       "CANCELLATION RATE        0.093322       0.017236    -0.483440   \n",
       "\n",
       "                   CANCELLATION RATE  \n",
       "AVG DELAY TIME              0.093322  \n",
       "AVG TAXI TIME               0.017236  \n",
       "VELOCITYMPH                -0.483440  \n",
       "CANCELLATION RATE           1.000000  "
      ]
     },
     "execution_count": 34,
     "metadata": {},
     "output_type": "execute_result"
    }
   ],
   "source": [
    "X.corr()"
   ]
  },
  {
   "cell_type": "code",
   "execution_count": 35,
   "id": "d90d4ce5",
   "metadata": {},
   "outputs": [
    {
     "data": {
      "image/png": "[encoded data removed]",
      "text/plain": [
       "<Figure size 576x288 with 2 Axes>"
      ]
     },
     "metadata": {},
     "output_type": "display_data"
    }
   ],
   "source": [
    "fig,ax = plt.subplots(figsize=(8, 4))\n",
    "_=sns.heatmap(X.corr(), ax=ax, annot=True)"
   ]
  },
  {
   "cell_type": "code",
   "execution_count": 36,
   "id": "86c441b0",
   "metadata": {},
   "outputs": [
    {
     "data": {
      "image/png": "[encoded data removed]",
      "text/plain": [
       "<Figure size 720x288 with 8 Axes>"
      ]
     },
     "metadata": {},
     "output_type": "display_data"
    }
   ],
   "source": [
    "fig,axs = plt.subplots(2,2,figsize=(10,4))\n",
    "DT = X.corr()[['AVG DELAY TIME']].sort_values(by='AVG DELAY TIME', ascending=False)\n",
    "TT = X.corr()[['AVG TAXI TIME']].sort_values(by='AVG TAXI TIME', ascending=False)\n",
    "V = X.corr()[['VELOCITYMPH']].sort_values(by='VELOCITYMPH', ascending=False)\n",
    "CR = X.corr()[['CANCELLATION RATE']].sort_values(by='CANCELLATION RATE', ascending=False)\n",
    "_=sns.heatmap(DT, ax=axs[0,0], annot=True)\n",
    "_=sns.heatmap(TT, ax=axs[0,1], annot=True)\n",
    "_=sns.heatmap(V, ax=axs[1,0], annot=True)\n",
    "_=sns.heatmap(CR, ax=axs[1,1], annot=True)\n",
    "plt.subplots_adjust(wspace=0.6, hspace=0.4)\n",
    "_=plt.suptitle('Pearson correlation coefficient by feature')"
   ]
  },
  {
   "cell_type": "markdown",
   "id": "aa7ca353",
   "metadata": {},
   "source": [
    "### Normalizing data"
   ]
  },
  {
   "cell_type": "code",
   "execution_count": 37,
   "id": "8ea5657e",
   "metadata": {},
   "outputs": [],
   "source": [
    "sc = StandardScaler()"
   ]
  },
  {
   "cell_type": "code",
   "execution_count": 38,
   "id": "b3fdd1b4",
   "metadata": {},
   "outputs": [
    {
     "data": {
      "text/plain": [
       "StandardScaler()"
      ]
     },
     "execution_count": 38,
     "metadata": {},
     "output_type": "execute_result"
    }
   ],
   "source": [
    "sc.fit(X)"
   ]
  },
  {
   "cell_type": "code",
   "execution_count": 39,
   "id": "3626936f",
   "metadata": {},
   "outputs": [],
   "source": [
    "X_norm = sc.transform(X)"
   ]
  },
  {
   "cell_type": "code",
   "execution_count": 40,
   "id": "4278b96d",
   "metadata": {},
   "outputs": [
    {
     "data": {
      "text/plain": [
       "(26, 4)"
      ]
     },
     "execution_count": 40,
     "metadata": {},
     "output_type": "execute_result"
    }
   ],
   "source": [
    "X_norm.shape"
   ]
  },
  {
   "cell_type": "markdown",
   "id": "d85ad6fe",
   "metadata": {},
   "source": [
    "### K-Means"
   ]
  },
  {
   "cell_type": "code",
   "execution_count": 41,
   "id": "247d2f85",
   "metadata": {},
   "outputs": [
    {
     "data": {
      "text/plain": [
       "array([ 1,  2,  3,  4,  5,  6,  7,  8,  9, 10])"
      ]
     },
     "execution_count": 41,
     "metadata": {},
     "output_type": "execute_result"
    }
   ],
   "source": [
    "clusters = np.arange(1,11)\n",
    "clusters"
   ]
  },
  {
   "cell_type": "code",
   "execution_count": 42,
   "id": "849f51e0",
   "metadata": {},
   "outputs": [],
   "source": [
    "inertia = []\n",
    "for k in clusters:\n",
    "    kmeans = KMeans(n_clusters=k, random_state=0)\n",
    "    kmeans.fit(X_norm)\n",
    "    inertia.append(kmeans.inertia_)"
   ]
  },
  {
   "cell_type": "code",
   "execution_count": 43,
   "id": "5cfba064",
   "metadata": {},
   "outputs": [
    {
     "data": {
      "text/html": [
       "<div>\n",
       "<style scoped>\n",
       "    .dataframe tbody tr th:only-of-type {\n",
       "        vertical-align: middle;\n",
       "    }\n",
       "\n",
       "    .dataframe tbody tr th {\n",
       "        vertical-align: top;\n",
       "    }\n",
       "\n",
       "    .dataframe thead th {\n",
       "        text-align: right;\n",
       "    }\n",
       "</style>\n",
       "<table border=\"1\" class=\"dataframe\">\n",
       "  <thead>\n",
       "    <tr style=\"text-align: right;\">\n",
       "      <th></th>\n",
       "      <th>K</th>\n",
       "      <th>Inertia</th>\n",
       "    </tr>\n",
       "  </thead>\n",
       "  <tbody>\n",
       "    <tr>\n",
       "      <th>0</th>\n",
       "      <td>1</td>\n",
       "      <td>104.000000</td>\n",
       "    </tr>\n",
       "    <tr>\n",
       "      <th>1</th>\n",
       "      <td>2</td>\n",
       "      <td>75.626644</td>\n",
       "    </tr>\n",
       "    <tr>\n",
       "      <th>2</th>\n",
       "      <td>3</td>\n",
       "      <td>55.315181</td>\n",
       "    </tr>\n",
       "    <tr>\n",
       "      <th>3</th>\n",
       "      <td>4</td>\n",
       "      <td>46.901321</td>\n",
       "    </tr>\n",
       "    <tr>\n",
       "      <th>4</th>\n",
       "      <td>5</td>\n",
       "      <td>39.275097</td>\n",
       "    </tr>\n",
       "    <tr>\n",
       "      <th>5</th>\n",
       "      <td>6</td>\n",
       "      <td>31.199336</td>\n",
       "    </tr>\n",
       "    <tr>\n",
       "      <th>6</th>\n",
       "      <td>7</td>\n",
       "      <td>26.311353</td>\n",
       "    </tr>\n",
       "    <tr>\n",
       "      <th>7</th>\n",
       "      <td>8</td>\n",
       "      <td>19.063607</td>\n",
       "    </tr>\n",
       "    <tr>\n",
       "      <th>8</th>\n",
       "      <td>9</td>\n",
       "      <td>14.461340</td>\n",
       "    </tr>\n",
       "    <tr>\n",
       "      <th>9</th>\n",
       "      <td>10</td>\n",
       "      <td>12.225431</td>\n",
       "    </tr>\n",
       "  </tbody>\n",
       "</table>\n",
       "</div>"
      ],
      "text/plain": [
       "    K     Inertia\n",
       "0   1  104.000000\n",
       "1   2   75.626644\n",
       "2   3   55.315181\n",
       "3   4   46.901321\n",
       "4   5   39.275097\n",
       "5   6   31.199336\n",
       "6   7   26.311353\n",
       "7   8   19.063607\n",
       "8   9   14.461340\n",
       "9  10   12.225431"
      ]
     },
     "execution_count": 43,
     "metadata": {},
     "output_type": "execute_result"
    }
   ],
   "source": [
    "eva = pd.DataFrame({\"K\": clusters, \"Inertia\": inertia})\n",
    "eva"
   ]
  },
  {
   "cell_type": "code",
   "execution_count": 44,
   "id": "519f4fb8",
   "metadata": {},
   "outputs": [
    {
     "data": {
      "image/png": "[encoded data removed]",
      "text/plain": [
       "<Figure size 720x360 with 1 Axes>"
      ]
     },
     "metadata": {},
     "output_type": "display_data"
    }
   ],
   "source": [
    "fig,ax = plt.subplots(figsize=(10,5))\n",
    "_=sns.lineplot(data=eva, x=\"K\", y=\"Inertia\")\n",
    "_=ax.set_xlabel(\"Number of clusters - K\")\n",
    "_=ax.set_title(\"Evaluation of clustering\")"
   ]
  },
  {
   "cell_type": "code",
   "execution_count": 45,
   "id": "373d991f",
   "metadata": {},
   "outputs": [],
   "source": [
    "kmeans = KMeans(n_clusters=3, random_state=0)"
   ]
  },
  {
   "cell_type": "code",
   "execution_count": 46,
   "id": "52ecf8d4",
   "metadata": {},
   "outputs": [
    {
     "data": {
      "text/plain": [
       "KMeans(n_clusters=3, random_state=0)"
      ]
     },
     "execution_count": 46,
     "metadata": {},
     "output_type": "execute_result"
    }
   ],
   "source": [
    "kmeans.fit(X_norm)"
   ]
  },
  {
   "cell_type": "code",
   "execution_count": 47,
   "id": "466b5d4f",
   "metadata": {},
   "outputs": [
    {
     "data": {
      "text/plain": [
       "array([[ 1.14654143e-01,  3.85533235e-01, -7.26157629e-01,\n",
       "         6.12613890e-01],\n",
       "       [-2.05437325e+00, -2.11094269e+00, -1.65441837e+00,\n",
       "         9.43252660e-02],\n",
       "       [ 2.19042380e-01, -1.46001573e-03,  8.68966974e-01,\n",
       "        -5.32877179e-01]])"
      ]
     },
     "execution_count": 47,
     "metadata": {},
     "output_type": "execute_result"
    }
   ],
   "source": [
    "kmeans.cluster_centers_"
   ]
  },
  {
   "cell_type": "code",
   "execution_count": 48,
   "id": "ec3f1d21",
   "metadata": {},
   "outputs": [],
   "source": [
    "flights_airlines['CLUSTER'] = kmeans.labels_"
   ]
  },
  {
   "cell_type": "code",
   "execution_count": 49,
   "id": "ae31019f",
   "metadata": {},
   "outputs": [
    {
     "data": {
      "text/html": [
       "<div>\n",
       "<style scoped>\n",
       "    .dataframe tbody tr th:only-of-type {\n",
       "        vertical-align: middle;\n",
       "    }\n",
       "\n",
       "    .dataframe tbody tr th {\n",
       "        vertical-align: top;\n",
       "    }\n",
       "\n",
       "    .dataframe thead th {\n",
       "        text-align: right;\n",
       "    }\n",
       "</style>\n",
       "<table border=\"1\" class=\"dataframe\">\n",
       "  <thead>\n",
       "    <tr style=\"text-align: right;\">\n",
       "      <th></th>\n",
       "      <th>AIRLINENAME</th>\n",
       "      <th>AVG DELAY TIME</th>\n",
       "      <th>AVG TAXI TIME</th>\n",
       "      <th>VELOCITYMPH</th>\n",
       "      <th>CANCELLATION RATE</th>\n",
       "      <th>CLUSTER</th>\n",
       "    </tr>\n",
       "  </thead>\n",
       "  <tbody>\n",
       "    <tr>\n",
       "      <th>0</th>\n",
       "      <td>ATA Airlines d/b/a ATA: TZ</td>\n",
       "      <td>8.926534</td>\n",
       "      <td>25.062054</td>\n",
       "      <td>372.300702</td>\n",
       "      <td>0.011972</td>\n",
       "      <td>2</td>\n",
       "    </tr>\n",
       "    <tr>\n",
       "      <th>1</th>\n",
       "      <td>AirTran Airways Corporation: FL</td>\n",
       "      <td>7.135774</td>\n",
       "      <td>22.518651</td>\n",
       "      <td>333.657270</td>\n",
       "      <td>0.011662</td>\n",
       "      <td>2</td>\n",
       "    </tr>\n",
       "    <tr>\n",
       "      <th>2</th>\n",
       "      <td>Alaska Airlines Inc.: AS</td>\n",
       "      <td>7.083628</td>\n",
       "      <td>18.470044</td>\n",
       "      <td>354.610812</td>\n",
       "      <td>0.021652</td>\n",
       "      <td>2</td>\n",
       "    </tr>\n",
       "    <tr>\n",
       "      <th>3</th>\n",
       "      <td>Aloha Airlines Inc.: AQ</td>\n",
       "      <td>2.056818</td>\n",
       "      <td>10.756494</td>\n",
       "      <td>222.482146</td>\n",
       "      <td>0.044961</td>\n",
       "      <td>1</td>\n",
       "    </tr>\n",
       "    <tr>\n",
       "      <th>4</th>\n",
       "      <td>America West Airlines Inc.: HP (Merged with US...</td>\n",
       "      <td>15.274335</td>\n",
       "      <td>20.433545</td>\n",
       "      <td>332.995769</td>\n",
       "      <td>0.021223</td>\n",
       "      <td>2</td>\n",
       "    </tr>\n",
       "  </tbody>\n",
       "</table>\n",
       "</div>"
      ],
      "text/plain": [
       "                                         AIRLINENAME  AVG DELAY TIME  \\\n",
       "0                         ATA Airlines d/b/a ATA: TZ        8.926534   \n",
       "1                    AirTran Airways Corporation: FL        7.135774   \n",
       "2                           Alaska Airlines Inc.: AS        7.083628   \n",
       "3                            Aloha Airlines Inc.: AQ        2.056818   \n",
       "4  America West Airlines Inc.: HP (Merged with US...       15.274335   \n",
       "\n",
       "   AVG TAXI TIME  VELOCITYMPH  CANCELLATION RATE  CLUSTER  \n",
       "0      25.062054   372.300702           0.011972        2  \n",
       "1      22.518651   333.657270           0.011662        2  \n",
       "2      18.470044   354.610812           0.021652        2  \n",
       "3      10.756494   222.482146           0.044961        1  \n",
       "4      20.433545   332.995769           0.021223        2  "
      ]
     },
     "execution_count": 49,
     "metadata": {},
     "output_type": "execute_result"
    }
   ],
   "source": [
    "flights_airlines.head()"
   ]
  },
  {
   "cell_type": "markdown",
   "id": "f6ca2cd8",
   "metadata": {},
   "source": [
    "### Plotting data in pairs"
   ]
  },
  {
   "cell_type": "code",
   "execution_count": 50,
   "id": "822488fc",
   "metadata": {},
   "outputs": [
    {
     "data": {
      "image/png": "[encoded data removed]",
      "text/plain": [
       "<Figure size 774.25x720 with 20 Axes>"
      ]
     },
     "metadata": {},
     "output_type": "display_data"
    }
   ],
   "source": [
    "_=sns.pairplot(flights_airlines, hue='CLUSTER', palette=\"tab10\")"
   ]
  },
  {
   "cell_type": "code",
   "execution_count": 51,
   "id": "9caa7724",
   "metadata": {},
   "outputs": [
    {
     "data": {
      "image/png": "[encoded data removed]",
      "text/plain": [
       "<Figure size 864x864 with 4 Axes>"
      ]
     },
     "metadata": {},
     "output_type": "display_data"
    }
   ],
   "source": [
    "fig,axs = plt.subplots(2,2,figsize=(12,12))\n",
    "_=sns.boxplot(data=flights_airlines, x=\"CLUSTER\", y=\"AVG DELAY TIME\", ax=axs[0,0])\n",
    "_=sns.boxplot(data=flights_airlines, x=\"CLUSTER\", y=\"AVG TAXI TIME\", ax=axs[0,1])\n",
    "_=sns.boxplot(data=flights_airlines, x=\"CLUSTER\", y=\"VELOCITYMPH\", ax=axs[1,0])\n",
    "_=sns.boxplot(data=flights_airlines, x=\"CLUSTER\", y=\"CANCELLATION RATE\", ax=axs[1,1])\n",
    "_=fig.suptitle(\"Characteristic variables by clustering\", fontsize=18, y=0.95)"
   ]
  },
  {
   "cell_type": "markdown",
   "id": "d398f0bc",
   "metadata": {},
   "source": [
    "### Clustering\n",
    "Cluster 0\n",
    "- Most data is distributed by a higher range of delay time, the average is below cluster 1 (High times - Medium) (Status: Medium)\n",
    "- Quite a few are concentrated for approximately 23 minutes in taxi time, however, most of the high data is found in cluster 1, and those are above average (Status: Bad)\n",
    "- The speed has average values (Status: Medium)\n",
    "- Most data is high for cancellation rate (High values) (Status: Bad)\n",
    "\n",
    "Clister 1\n",
    "- Data has low delay times (Low) (Status: Good)\n",
    "- Data has low taxi times, good relation between taxi-in and taxi-out (Low) (Condition: Good)\n",
    "- Data shows slower travel (Low) (Status: Bad)\n",
    "- It has a very varied cancellation rate, but the median is in an intermediate state compared to the others (Status: Medium)\n",
    "\n",
    "Cluster 2\n",
    "- Most of the data is concentrated upwards, with longer delay times (Status: Bad)\n",
    "- 50% of the data was below cluster 0, but above cluster 1 (State: Medium)\n",
    "- High speeds, traveling in less time, faster (Condition: Good)\n",
    "- They have lower cancellation rates in the number of flights made (Status: Good)"
   ]
  },
  {
   "cell_type": "markdown",
   "id": "5a3af51c",
   "metadata": {},
   "source": [
    "|Cluster|Remark|\n",
    "|---|---|\n",
    "|0|Airlines with medium-high delays, take-off and departure delays, and high cancellation rates (Not-outstanding Airlines)|\n",
    "|1|Airlines with low overall delays and delays, slow travel, and low cancellation rate (Best Airlines)|\n",
    "|2|Airlines with the longest delays but low take-off and departure times, and low cancellation rates (Average Airlines)|"
   ]
  }
 ],
 "metadata": {
  "kernelspec": {
   "display_name": "Python 3",
   "language": "python",
   "name": "python3"
  },
  "language_info": {
   "codemirror_mode": {
    "name": "ipython",
    "version": 3
   },
   "file_extension": ".py",
   "mimetype": "text/x-python",
   "name": "python",
   "nbconvert_exporter": "python",
   "pygments_lexer": "ipython3",
   "version": "3.7.9"
  }
 },
 "nbformat": 4,
 "nbformat_minor": 5
}
