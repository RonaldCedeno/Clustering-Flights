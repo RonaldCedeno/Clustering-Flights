{
 "cells": [
  {
   "cell_type": "markdown",
   "id": "215436cf",
   "metadata": {},
   "source": [
    "# Characterization of airlines based on delay time"
   ]
  },
  {
   "cell_type": "markdown",
   "id": "f27a7dfa",
   "metadata": {},
   "source": [
    "## Libraries"
   ]
  },
  {
   "cell_type": "code",
   "execution_count": 1,
   "id": "0b37d436",
   "metadata": {},
   "outputs": [],
   "source": [
    "import pandas as pd\n",
    "import numpy as np\n",
    "from sklearn.preprocessing import StandardScaler\n",
    "from sklearn.cluster import KMeans\n",
    "import matplotlib.pyplot as plt\n",
    "import seaborn as sns"
   ]
  },
  {
   "cell_type": "markdown",
   "id": "3847d643",
   "metadata": {},
   "source": [
    "## Reading data from file"
   ]
  },
  {
   "cell_type": "code",
   "execution_count": 2,
   "id": "16f7cee7",
   "metadata": {},
   "outputs": [],
   "source": [
    "flights = pd.read_csv(\"flights.txt\", sep=\"|\")"
   ]
  },
  {
   "cell_type": "code",
   "execution_count": 3,
   "id": "7d0e832e",
   "metadata": {},
   "outputs": [
    {
     "data": {
      "text/plain": [
       "(1191805, 31)"
      ]
     },
     "execution_count": 3,
     "metadata": {},
     "output_type": "execute_result"
    }
   ],
   "source": [
    "flights.shape"
   ]
  },
  {
   "cell_type": "code",
   "execution_count": 4,
   "id": "069a11d6",
   "metadata": {},
   "outputs": [],
   "source": [
    "flights['FLIGHTDATE'] = pd.to_datetime(flights['FLIGHTDATE'], format='%Y%m%d')"
   ]
  },
  {
   "cell_type": "code",
   "execution_count": 5,
   "id": "27e48037",
   "metadata": {},
   "outputs": [
    {
     "data": {
      "text/plain": [
       "TRANSACTIONID                 int64\n",
       "FLIGHTDATE           datetime64[ns]\n",
       "AIRLINECODE                  object\n",
       "AIRLINENAME                  object\n",
       "TAILNUM                      object\n",
       "FLIGHTNUM                     int64\n",
       "ORIGINAIRPORTCODE            object\n",
       "ORIGAIRPORTNAME              object\n",
       "ORIGINCITYNAME               object\n",
       "ORIGINSTATE                  object\n",
       "ORIGINSTATENAME              object\n",
       "DESTAIRPORTCODE              object\n",
       "DESTAIRPORTNAME              object\n",
       "DESTCITYNAME                 object\n",
       "DESTSTATE                    object\n",
       "DESTSTATENAME                object\n",
       "CRSDEPTIME                    int64\n",
       "DEPTIME                     float64\n",
       "DEPDELAY                    float64\n",
       "TAXIOUT                     float64\n",
       "WHEELSOFF                   float64\n",
       "WHEELSON                    float64\n",
       "TAXIIN                      float64\n",
       "CRSARRTIME                    int64\n",
       "ARRTIME                     float64\n",
       "ARRDELAY                    float64\n",
       "CRSELAPSEDTIME              float64\n",
       "ACTUALELAPSEDTIME           float64\n",
       "CANCELLED                    object\n",
       "DIVERTED                     object\n",
       "DISTANCE                     object\n",
       "dtype: object"
      ]
     },
     "execution_count": 5,
     "metadata": {},
     "output_type": "execute_result"
    }
   ],
   "source": [
    "flights.dtypes"
   ]
  },
  {
   "cell_type": "code",
   "execution_count": 6,
   "id": "938df385",
   "metadata": {},
   "outputs": [
    {
     "data": {
      "text/html": [
       "<div>\n",
       "<style scoped>\n",
       "    .dataframe tbody tr th:only-of-type {\n",
       "        vertical-align: middle;\n",
       "    }\n",
       "\n",
       "    .dataframe tbody tr th {\n",
       "        vertical-align: top;\n",
       "    }\n",
       "\n",
       "    .dataframe thead th {\n",
       "        text-align: right;\n",
       "    }\n",
       "</style>\n",
       "<table border=\"1\" class=\"dataframe\">\n",
       "  <thead>\n",
       "    <tr style=\"text-align: right;\">\n",
       "      <th></th>\n",
       "      <th>CRSDEPTIME</th>\n",
       "      <th>DEPTIME</th>\n",
       "      <th>DEPDELAY</th>\n",
       "      <th>TAXIOUT</th>\n",
       "      <th>WHEELSOFF</th>\n",
       "      <th>WHEELSON</th>\n",
       "      <th>TAXIIN</th>\n",
       "      <th>CRSARRTIME</th>\n",
       "      <th>ARRTIME</th>\n",
       "      <th>ARRDELAY</th>\n",
       "      <th>CRSELAPSEDTIME</th>\n",
       "      <th>ACTUALELAPSEDTIME</th>\n",
       "      <th>CANCELLED</th>\n",
       "      <th>DIVERTED</th>\n",
       "      <th>DISTANCE</th>\n",
       "    </tr>\n",
       "  </thead>\n",
       "  <tbody>\n",
       "    <tr>\n",
       "      <th>0</th>\n",
       "      <td>1425</td>\n",
       "      <td>1425.0</td>\n",
       "      <td>0.0</td>\n",
       "      <td>8.0</td>\n",
       "      <td>1433.0</td>\n",
       "      <td>1648.0</td>\n",
       "      <td>4.0</td>\n",
       "      <td>1655</td>\n",
       "      <td>1652.0</td>\n",
       "      <td>-3.0</td>\n",
       "      <td>90.0</td>\n",
       "      <td>87.0</td>\n",
       "      <td>F</td>\n",
       "      <td>False</td>\n",
       "      <td>580 miles</td>\n",
       "    </tr>\n",
       "    <tr>\n",
       "      <th>1</th>\n",
       "      <td>1130</td>\n",
       "      <td>1136.0</td>\n",
       "      <td>6.0</td>\n",
       "      <td>12.0</td>\n",
       "      <td>1148.0</td>\n",
       "      <td>1419.0</td>\n",
       "      <td>16.0</td>\n",
       "      <td>1426</td>\n",
       "      <td>1435.0</td>\n",
       "      <td>9.0</td>\n",
       "      <td>116.0</td>\n",
       "      <td>119.0</td>\n",
       "      <td>False</td>\n",
       "      <td>F</td>\n",
       "      <td>744 miles</td>\n",
       "    </tr>\n",
       "    <tr>\n",
       "      <th>2</th>\n",
       "      <td>1215</td>\n",
       "      <td>1338.0</td>\n",
       "      <td>83.0</td>\n",
       "      <td>7.0</td>\n",
       "      <td>1345.0</td>\n",
       "      <td>1618.0</td>\n",
       "      <td>2.0</td>\n",
       "      <td>1500</td>\n",
       "      <td>1620.0</td>\n",
       "      <td>80.0</td>\n",
       "      <td>105.0</td>\n",
       "      <td>102.0</td>\n",
       "      <td>F</td>\n",
       "      <td>False</td>\n",
       "      <td>718 miles</td>\n",
       "    </tr>\n",
       "    <tr>\n",
       "      <th>3</th>\n",
       "      <td>1925</td>\n",
       "      <td>1925.0</td>\n",
       "      <td>0.0</td>\n",
       "      <td>5.0</td>\n",
       "      <td>1930.0</td>\n",
       "      <td>1947.0</td>\n",
       "      <td>1.0</td>\n",
       "      <td>1950</td>\n",
       "      <td>1948.0</td>\n",
       "      <td>-2.0</td>\n",
       "      <td>85.0</td>\n",
       "      <td>83.0</td>\n",
       "      <td>0</td>\n",
       "      <td>0</td>\n",
       "      <td>487 miles</td>\n",
       "    </tr>\n",
       "    <tr>\n",
       "      <th>4</th>\n",
       "      <td>1455</td>\n",
       "      <td>1453.0</td>\n",
       "      <td>-2.0</td>\n",
       "      <td>11.0</td>\n",
       "      <td>1504.0</td>\n",
       "      <td>1742.0</td>\n",
       "      <td>5.0</td>\n",
       "      <td>1750</td>\n",
       "      <td>1747.0</td>\n",
       "      <td>-3.0</td>\n",
       "      <td>115.0</td>\n",
       "      <td>114.0</td>\n",
       "      <td>F</td>\n",
       "      <td>False</td>\n",
       "      <td>744 miles</td>\n",
       "    </tr>\n",
       "  </tbody>\n",
       "</table>\n",
       "</div>"
      ],
      "text/plain": [
       "   CRSDEPTIME  DEPTIME  DEPDELAY  TAXIOUT  WHEELSOFF  WHEELSON  TAXIIN  \\\n",
       "0        1425   1425.0       0.0      8.0     1433.0    1648.0     4.0   \n",
       "1        1130   1136.0       6.0     12.0     1148.0    1419.0    16.0   \n",
       "2        1215   1338.0      83.0      7.0     1345.0    1618.0     2.0   \n",
       "3        1925   1925.0       0.0      5.0     1930.0    1947.0     1.0   \n",
       "4        1455   1453.0      -2.0     11.0     1504.0    1742.0     5.0   \n",
       "\n",
       "   CRSARRTIME  ARRTIME  ARRDELAY  CRSELAPSEDTIME  ACTUALELAPSEDTIME CANCELLED  \\\n",
       "0        1655   1652.0      -3.0            90.0               87.0         F   \n",
       "1        1426   1435.0       9.0           116.0              119.0     False   \n",
       "2        1500   1620.0      80.0           105.0              102.0         F   \n",
       "3        1950   1948.0      -2.0            85.0               83.0         0   \n",
       "4        1750   1747.0      -3.0           115.0              114.0         F   \n",
       "\n",
       "  DIVERTED   DISTANCE  \n",
       "0    False  580 miles  \n",
       "1        F  744 miles  \n",
       "2    False  718 miles  \n",
       "3        0  487 miles  \n",
       "4    False  744 miles  "
      ]
     },
     "execution_count": 6,
     "metadata": {},
     "output_type": "execute_result"
    }
   ],
   "source": [
    "flights.iloc[:,16:].head()"
   ]
  },
  {
   "cell_type": "markdown",
   "id": "1fe51ce2",
   "metadata": {},
   "source": [
    "## Manipulating and organizing data"
   ]
  },
  {
   "cell_type": "code",
   "execution_count": 7,
   "id": "88efb1f3",
   "metadata": {},
   "outputs": [],
   "source": [
    "columns = ['FLIGHTDATE','AIRLINENAME','DEPDELAY','ARRDELAY']"
   ]
  },
  {
   "cell_type": "code",
   "execution_count": 8,
   "id": "01e4ead3",
   "metadata": {},
   "outputs": [],
   "source": [
    "flights_X = flights.loc[:,columns]"
   ]
  },
  {
   "cell_type": "code",
   "execution_count": 9,
   "id": "b62ace1e",
   "metadata": {
    "scrolled": false
   },
   "outputs": [
    {
     "data": {
      "text/html": [
       "<div>\n",
       "<style scoped>\n",
       "    .dataframe tbody tr th:only-of-type {\n",
       "        vertical-align: middle;\n",
       "    }\n",
       "\n",
       "    .dataframe tbody tr th {\n",
       "        vertical-align: top;\n",
       "    }\n",
       "\n",
       "    .dataframe thead th {\n",
       "        text-align: right;\n",
       "    }\n",
       "</style>\n",
       "<table border=\"1\" class=\"dataframe\">\n",
       "  <thead>\n",
       "    <tr style=\"text-align: right;\">\n",
       "      <th></th>\n",
       "      <th>FLIGHTDATE</th>\n",
       "      <th>AIRLINENAME</th>\n",
       "      <th>DEPDELAY</th>\n",
       "      <th>ARRDELAY</th>\n",
       "    </tr>\n",
       "  </thead>\n",
       "  <tbody>\n",
       "    <tr>\n",
       "      <th>0</th>\n",
       "      <td>2002-01-01</td>\n",
       "      <td>Southwest Airlines Co.: WN</td>\n",
       "      <td>0.0</td>\n",
       "      <td>-3.0</td>\n",
       "    </tr>\n",
       "    <tr>\n",
       "      <th>1</th>\n",
       "      <td>2002-01-01</td>\n",
       "      <td>Continental Air Lines Inc.: CO</td>\n",
       "      <td>6.0</td>\n",
       "      <td>9.0</td>\n",
       "    </tr>\n",
       "    <tr>\n",
       "      <th>2</th>\n",
       "      <td>2002-01-01</td>\n",
       "      <td>Southwest Airlines Co.: WN</td>\n",
       "      <td>83.0</td>\n",
       "      <td>80.0</td>\n",
       "    </tr>\n",
       "    <tr>\n",
       "      <th>3</th>\n",
       "      <td>2002-01-01</td>\n",
       "      <td>Southwest Airlines Co.: WN</td>\n",
       "      <td>0.0</td>\n",
       "      <td>-2.0</td>\n",
       "    </tr>\n",
       "    <tr>\n",
       "      <th>4</th>\n",
       "      <td>2002-01-03</td>\n",
       "      <td>Continental Air Lines Inc.: CO</td>\n",
       "      <td>-2.0</td>\n",
       "      <td>-3.0</td>\n",
       "    </tr>\n",
       "  </tbody>\n",
       "</table>\n",
       "</div>"
      ],
      "text/plain": [
       "  FLIGHTDATE                     AIRLINENAME  DEPDELAY  ARRDELAY\n",
       "0 2002-01-01      Southwest Airlines Co.: WN       0.0      -3.0\n",
       "1 2002-01-01  Continental Air Lines Inc.: CO       6.0       9.0\n",
       "2 2002-01-01      Southwest Airlines Co.: WN      83.0      80.0\n",
       "3 2002-01-01      Southwest Airlines Co.: WN       0.0      -2.0\n",
       "4 2002-01-03  Continental Air Lines Inc.: CO      -2.0      -3.0"
      ]
     },
     "execution_count": 9,
     "metadata": {},
     "output_type": "execute_result"
    }
   ],
   "source": [
    "flights_X.head()"
   ]
  },
  {
   "cell_type": "markdown",
   "id": "597d2549",
   "metadata": {},
   "source": [
    "### Distribution\n",
    "\n",
    "- Departure:\n",
    "    - Positive values: Delay time (Analysis)\n",
    "    - Negative values: Early time\n",
    "- Arrival:\n",
    "    - Positive values: Delay time (Analysis)\n",
    "    - Negative values: Early time"
   ]
  },
  {
   "cell_type": "markdown",
   "id": "93075b7d",
   "metadata": {},
   "source": [
    "#### Analysis Delay Time - Positive values"
   ]
  },
  {
   "cell_type": "markdown",
   "id": "3fd58302",
   "metadata": {},
   "source": [
    "- #### Departure"
   ]
  },
  {
   "cell_type": "code",
   "execution_count": 10,
   "id": "ad63e5b1",
   "metadata": {},
   "outputs": [],
   "source": [
    "dep = flights_X[flights_X[\"DEPDELAY\"]>0]"
   ]
  },
  {
   "cell_type": "code",
   "execution_count": 11,
   "id": "56333c59",
   "metadata": {},
   "outputs": [
    {
     "data": {
      "text/html": [
       "<div>\n",
       "<style scoped>\n",
       "    .dataframe tbody tr th:only-of-type {\n",
       "        vertical-align: middle;\n",
       "    }\n",
       "\n",
       "    .dataframe tbody tr th {\n",
       "        vertical-align: top;\n",
       "    }\n",
       "\n",
       "    .dataframe thead th {\n",
       "        text-align: right;\n",
       "    }\n",
       "</style>\n",
       "<table border=\"1\" class=\"dataframe\">\n",
       "  <thead>\n",
       "    <tr style=\"text-align: right;\">\n",
       "      <th></th>\n",
       "      <th>FLIGHTDATE</th>\n",
       "      <th>AIRLINENAME</th>\n",
       "      <th>DEPDELAY</th>\n",
       "      <th>ARRDELAY</th>\n",
       "    </tr>\n",
       "  </thead>\n",
       "  <tbody>\n",
       "    <tr>\n",
       "      <th>1</th>\n",
       "      <td>2002-01-01</td>\n",
       "      <td>Continental Air Lines Inc.: CO</td>\n",
       "      <td>6.0</td>\n",
       "      <td>9.0</td>\n",
       "    </tr>\n",
       "    <tr>\n",
       "      <th>2</th>\n",
       "      <td>2002-01-01</td>\n",
       "      <td>Southwest Airlines Co.: WN</td>\n",
       "      <td>83.0</td>\n",
       "      <td>80.0</td>\n",
       "    </tr>\n",
       "    <tr>\n",
       "      <th>5</th>\n",
       "      <td>2002-01-03</td>\n",
       "      <td>Southwest Airlines Co.: WN</td>\n",
       "      <td>27.0</td>\n",
       "      <td>21.0</td>\n",
       "    </tr>\n",
       "    <tr>\n",
       "      <th>6</th>\n",
       "      <td>2002-01-04</td>\n",
       "      <td>Delta Air Lines Inc.: DL</td>\n",
       "      <td>167.0</td>\n",
       "      <td>168.0</td>\n",
       "    </tr>\n",
       "    <tr>\n",
       "      <th>7</th>\n",
       "      <td>2002-01-05</td>\n",
       "      <td>Delta Air Lines Inc.: DL</td>\n",
       "      <td>105.0</td>\n",
       "      <td>111.0</td>\n",
       "    </tr>\n",
       "    <tr>\n",
       "      <th>...</th>\n",
       "      <td>...</td>\n",
       "      <td>...</td>\n",
       "      <td>...</td>\n",
       "      <td>...</td>\n",
       "    </tr>\n",
       "    <tr>\n",
       "      <th>1191776</th>\n",
       "      <td>2013-01-04</td>\n",
       "      <td>Envoy Air: MQ</td>\n",
       "      <td>49.0</td>\n",
       "      <td>51.0</td>\n",
       "    </tr>\n",
       "    <tr>\n",
       "      <th>1191779</th>\n",
       "      <td>2013-01-04</td>\n",
       "      <td>AirTran Airways Corporation: FL</td>\n",
       "      <td>7.0</td>\n",
       "      <td>4.0</td>\n",
       "    </tr>\n",
       "    <tr>\n",
       "      <th>1191789</th>\n",
       "      <td>2013-01-05</td>\n",
       "      <td>Delta Air Lines Inc.: DL</td>\n",
       "      <td>1.0</td>\n",
       "      <td>-13.0</td>\n",
       "    </tr>\n",
       "    <tr>\n",
       "      <th>1191793</th>\n",
       "      <td>2013-01-06</td>\n",
       "      <td>Delta Air Lines Inc.: DL</td>\n",
       "      <td>20.0</td>\n",
       "      <td>25.0</td>\n",
       "    </tr>\n",
       "    <tr>\n",
       "      <th>1191804</th>\n",
       "      <td>2013-01-06</td>\n",
       "      <td>ExpressJet Airlines Inc.: EV</td>\n",
       "      <td>6.0</td>\n",
       "      <td>6.0</td>\n",
       "    </tr>\n",
       "  </tbody>\n",
       "</table>\n",
       "<p>433360 rows × 4 columns</p>\n",
       "</div>"
      ],
      "text/plain": [
       "        FLIGHTDATE                      AIRLINENAME  DEPDELAY  ARRDELAY\n",
       "1       2002-01-01   Continental Air Lines Inc.: CO       6.0       9.0\n",
       "2       2002-01-01       Southwest Airlines Co.: WN      83.0      80.0\n",
       "5       2002-01-03       Southwest Airlines Co.: WN      27.0      21.0\n",
       "6       2002-01-04         Delta Air Lines Inc.: DL     167.0     168.0\n",
       "7       2002-01-05         Delta Air Lines Inc.: DL     105.0     111.0\n",
       "...            ...                              ...       ...       ...\n",
       "1191776 2013-01-04                    Envoy Air: MQ      49.0      51.0\n",
       "1191779 2013-01-04  AirTran Airways Corporation: FL       7.0       4.0\n",
       "1191789 2013-01-05         Delta Air Lines Inc.: DL       1.0     -13.0\n",
       "1191793 2013-01-06         Delta Air Lines Inc.: DL      20.0      25.0\n",
       "1191804 2013-01-06     ExpressJet Airlines Inc.: EV       6.0       6.0\n",
       "\n",
       "[433360 rows x 4 columns]"
      ]
     },
     "execution_count": 11,
     "metadata": {},
     "output_type": "execute_result"
    }
   ],
   "source": [
    "dep"
   ]
  },
  {
   "cell_type": "markdown",
   "id": "94bcb5d0",
   "metadata": {},
   "source": [
    "- #### Removing outliers from DEPDELAY"
   ]
  },
  {
   "cell_type": "code",
   "execution_count": 12,
   "id": "0da98819",
   "metadata": {},
   "outputs": [],
   "source": [
    "q3 = dep[\"DEPDELAY\"].quantile(0.75)\n",
    "q1 = dep[\"DEPDELAY\"].quantile(0.25)\n",
    "iqr = q3 - q1"
   ]
  },
  {
   "cell_type": "code",
   "execution_count": 13,
   "id": "69673a56",
   "metadata": {},
   "outputs": [],
   "source": [
    "dep = dep.loc[(dep[\"DEPDELAY\"] >= (q1 - 1.5*iqr)) & (dep[\"DEPDELAY\"] <= (q3 + 1.5*iqr))]"
   ]
  },
  {
   "cell_type": "code",
   "execution_count": 14,
   "id": "024f2bf3",
   "metadata": {},
   "outputs": [
    {
     "data": {
      "text/plain": [
       "(390479, 4)"
      ]
     },
     "execution_count": 14,
     "metadata": {},
     "output_type": "execute_result"
    }
   ],
   "source": [
    "dep.shape"
   ]
  },
  {
   "cell_type": "markdown",
   "id": "f9a3d1ad",
   "metadata": {},
   "source": [
    "- #### Arrival"
   ]
  },
  {
   "cell_type": "code",
   "execution_count": 15,
   "id": "3242df9a",
   "metadata": {},
   "outputs": [],
   "source": [
    "arr = flights_X[flights_X[\"ARRDELAY\"]>0]"
   ]
  },
  {
   "cell_type": "code",
   "execution_count": 16,
   "id": "5c595a6c",
   "metadata": {},
   "outputs": [
    {
     "data": {
      "text/html": [
       "<div>\n",
       "<style scoped>\n",
       "    .dataframe tbody tr th:only-of-type {\n",
       "        vertical-align: middle;\n",
       "    }\n",
       "\n",
       "    .dataframe tbody tr th {\n",
       "        vertical-align: top;\n",
       "    }\n",
       "\n",
       "    .dataframe thead th {\n",
       "        text-align: right;\n",
       "    }\n",
       "</style>\n",
       "<table border=\"1\" class=\"dataframe\">\n",
       "  <thead>\n",
       "    <tr style=\"text-align: right;\">\n",
       "      <th></th>\n",
       "      <th>FLIGHTDATE</th>\n",
       "      <th>AIRLINENAME</th>\n",
       "      <th>DEPDELAY</th>\n",
       "      <th>ARRDELAY</th>\n",
       "    </tr>\n",
       "  </thead>\n",
       "  <tbody>\n",
       "    <tr>\n",
       "      <th>1</th>\n",
       "      <td>2002-01-01</td>\n",
       "      <td>Continental Air Lines Inc.: CO</td>\n",
       "      <td>6.0</td>\n",
       "      <td>9.0</td>\n",
       "    </tr>\n",
       "    <tr>\n",
       "      <th>2</th>\n",
       "      <td>2002-01-01</td>\n",
       "      <td>Southwest Airlines Co.: WN</td>\n",
       "      <td>83.0</td>\n",
       "      <td>80.0</td>\n",
       "    </tr>\n",
       "    <tr>\n",
       "      <th>5</th>\n",
       "      <td>2002-01-03</td>\n",
       "      <td>Southwest Airlines Co.: WN</td>\n",
       "      <td>27.0</td>\n",
       "      <td>21.0</td>\n",
       "    </tr>\n",
       "    <tr>\n",
       "      <th>6</th>\n",
       "      <td>2002-01-04</td>\n",
       "      <td>Delta Air Lines Inc.: DL</td>\n",
       "      <td>167.0</td>\n",
       "      <td>168.0</td>\n",
       "    </tr>\n",
       "    <tr>\n",
       "      <th>7</th>\n",
       "      <td>2002-01-05</td>\n",
       "      <td>Delta Air Lines Inc.: DL</td>\n",
       "      <td>105.0</td>\n",
       "      <td>111.0</td>\n",
       "    </tr>\n",
       "    <tr>\n",
       "      <th>...</th>\n",
       "      <td>...</td>\n",
       "      <td>...</td>\n",
       "      <td>...</td>\n",
       "      <td>...</td>\n",
       "    </tr>\n",
       "    <tr>\n",
       "      <th>1191765</th>\n",
       "      <td>2013-01-04</td>\n",
       "      <td>Delta Air Lines Inc.: DL</td>\n",
       "      <td>16.0</td>\n",
       "      <td>10.0</td>\n",
       "    </tr>\n",
       "    <tr>\n",
       "      <th>1191776</th>\n",
       "      <td>2013-01-04</td>\n",
       "      <td>Envoy Air: MQ</td>\n",
       "      <td>49.0</td>\n",
       "      <td>51.0</td>\n",
       "    </tr>\n",
       "    <tr>\n",
       "      <th>1191779</th>\n",
       "      <td>2013-01-04</td>\n",
       "      <td>AirTran Airways Corporation: FL</td>\n",
       "      <td>7.0</td>\n",
       "      <td>4.0</td>\n",
       "    </tr>\n",
       "    <tr>\n",
       "      <th>1191793</th>\n",
       "      <td>2013-01-06</td>\n",
       "      <td>Delta Air Lines Inc.: DL</td>\n",
       "      <td>20.0</td>\n",
       "      <td>25.0</td>\n",
       "    </tr>\n",
       "    <tr>\n",
       "      <th>1191804</th>\n",
       "      <td>2013-01-06</td>\n",
       "      <td>ExpressJet Airlines Inc.: EV</td>\n",
       "      <td>6.0</td>\n",
       "      <td>6.0</td>\n",
       "    </tr>\n",
       "  </tbody>\n",
       "</table>\n",
       "<p>483881 rows × 4 columns</p>\n",
       "</div>"
      ],
      "text/plain": [
       "        FLIGHTDATE                      AIRLINENAME  DEPDELAY  ARRDELAY\n",
       "1       2002-01-01   Continental Air Lines Inc.: CO       6.0       9.0\n",
       "2       2002-01-01       Southwest Airlines Co.: WN      83.0      80.0\n",
       "5       2002-01-03       Southwest Airlines Co.: WN      27.0      21.0\n",
       "6       2002-01-04         Delta Air Lines Inc.: DL     167.0     168.0\n",
       "7       2002-01-05         Delta Air Lines Inc.: DL     105.0     111.0\n",
       "...            ...                              ...       ...       ...\n",
       "1191765 2013-01-04         Delta Air Lines Inc.: DL      16.0      10.0\n",
       "1191776 2013-01-04                    Envoy Air: MQ      49.0      51.0\n",
       "1191779 2013-01-04  AirTran Airways Corporation: FL       7.0       4.0\n",
       "1191793 2013-01-06         Delta Air Lines Inc.: DL      20.0      25.0\n",
       "1191804 2013-01-06     ExpressJet Airlines Inc.: EV       6.0       6.0\n",
       "\n",
       "[483881 rows x 4 columns]"
      ]
     },
     "execution_count": 16,
     "metadata": {},
     "output_type": "execute_result"
    }
   ],
   "source": [
    "arr"
   ]
  },
  {
   "cell_type": "markdown",
   "id": "c6a6520f",
   "metadata": {},
   "source": [
    "- #### Removing outliers from ARRDELAY"
   ]
  },
  {
   "cell_type": "code",
   "execution_count": 17,
   "id": "c82bca3f",
   "metadata": {},
   "outputs": [],
   "source": [
    "q3 = arr[\"ARRDELAY\"].quantile(0.75)\n",
    "q1 = arr[\"ARRDELAY\"].quantile(0.25)\n",
    "iqr = q3 - q1"
   ]
  },
  {
   "cell_type": "code",
   "execution_count": 18,
   "id": "9b8e8dd7",
   "metadata": {},
   "outputs": [],
   "source": [
    "arr = arr.loc[(arr[\"ARRDELAY\"] >= (q1 - 1.5*iqr)) & (arr[\"ARRDELAY\"] <= (q3 + 1.5*iqr))]"
   ]
  },
  {
   "cell_type": "code",
   "execution_count": 19,
   "id": "beba255d",
   "metadata": {},
   "outputs": [
    {
     "data": {
      "text/plain": [
       "(435385, 4)"
      ]
     },
     "execution_count": 19,
     "metadata": {},
     "output_type": "execute_result"
    }
   ],
   "source": [
    "arr.shape"
   ]
  },
  {
   "cell_type": "markdown",
   "id": "a2350df8",
   "metadata": {},
   "source": [
    "#### Boxplot DEPDELAY & ARRDELAY"
   ]
  },
  {
   "cell_type": "code",
   "execution_count": 20,
   "id": "d2435355",
   "metadata": {},
   "outputs": [
    {
     "data": {
      "image/png": "[encoded data removed]",
      "text/plain": [
       "<Figure size 1080x720 with 2 Axes>"
      ]
     },
     "metadata": {
      "needs_background": "light"
     },
     "output_type": "display_data"
    }
   ],
   "source": [
    "fig,axs = plt.subplots(2,1,figsize=(15,10))\n",
    "_ = sns.boxplot(x=dep['DEPDELAY'],ax=axs[0])\n",
    "_ = sns.boxplot(x=arr['ARRDELAY'],ax=axs[1])"
   ]
  },
  {
   "cell_type": "markdown",
   "id": "de039999",
   "metadata": {},
   "source": [
    "### Grouping data"
   ]
  },
  {
   "cell_type": "code",
   "execution_count": 21,
   "id": "a66a2efe",
   "metadata": {},
   "outputs": [],
   "source": [
    "dep = dep.groupby([pd.Grouper(key=\"FLIGHTDATE\", freq=\"Y\"),\"AIRLINENAME\"]).agg({'DEPDELAY':np.sum})"
   ]
  },
  {
   "cell_type": "code",
   "execution_count": 22,
   "id": "4bd7a6d6",
   "metadata": {},
   "outputs": [
    {
     "data": {
      "text/html": [
       "<div>\n",
       "<style scoped>\n",
       "    .dataframe tbody tr th:only-of-type {\n",
       "        vertical-align: middle;\n",
       "    }\n",
       "\n",
       "    .dataframe tbody tr th {\n",
       "        vertical-align: top;\n",
       "    }\n",
       "\n",
       "    .dataframe thead th {\n",
       "        text-align: right;\n",
       "    }\n",
       "</style>\n",
       "<table border=\"1\" class=\"dataframe\">\n",
       "  <thead>\n",
       "    <tr style=\"text-align: right;\">\n",
       "      <th></th>\n",
       "      <th></th>\n",
       "      <th>DEPDELAY</th>\n",
       "    </tr>\n",
       "    <tr>\n",
       "      <th>FLIGHTDATE</th>\n",
       "      <th>AIRLINENAME</th>\n",
       "      <th></th>\n",
       "    </tr>\n",
       "  </thead>\n",
       "  <tbody>\n",
       "    <tr>\n",
       "      <th rowspan=\"5\" valign=\"top\">1992-12-31</th>\n",
       "      <th>Alaska Airlines Inc.: AS</th>\n",
       "      <td>2390.0</td>\n",
       "    </tr>\n",
       "    <tr>\n",
       "      <th>America West Airlines Inc.: HP (Merged with US Airways 9/05.Stopped reporting 10/07.)</th>\n",
       "      <td>6123.0</td>\n",
       "    </tr>\n",
       "    <tr>\n",
       "      <th>American Airlines Inc.: AA</th>\n",
       "      <td>27050.0</td>\n",
       "    </tr>\n",
       "    <tr>\n",
       "      <th>Continental Air Lines Inc.: CO</th>\n",
       "      <td>13896.0</td>\n",
       "    </tr>\n",
       "    <tr>\n",
       "      <th>Delta Air Lines Inc.: DL</th>\n",
       "      <td>42625.0</td>\n",
       "    </tr>\n",
       "    <tr>\n",
       "      <th>...</th>\n",
       "      <th>...</th>\n",
       "      <td>...</td>\n",
       "    </tr>\n",
       "    <tr>\n",
       "      <th rowspan=\"5\" valign=\"top\">2016-12-31</th>\n",
       "      <th>SkyWest Airlines Inc.: OO</th>\n",
       "      <td>14649.0</td>\n",
       "    </tr>\n",
       "    <tr>\n",
       "      <th>Southwest Airlines Co.: WN</th>\n",
       "      <td>48810.0</td>\n",
       "    </tr>\n",
       "    <tr>\n",
       "      <th>Spirit Air Lines: NK</th>\n",
       "      <td>5725.0</td>\n",
       "    </tr>\n",
       "    <tr>\n",
       "      <th>United Air Lines Inc.: UA</th>\n",
       "      <td>16379.0</td>\n",
       "    </tr>\n",
       "    <tr>\n",
       "      <th>Virgin America: VX</th>\n",
       "      <td>2970.0</td>\n",
       "    </tr>\n",
       "  </tbody>\n",
       "</table>\n",
       "<p>272 rows × 1 columns</p>\n",
       "</div>"
      ],
      "text/plain": [
       "                                                               DEPDELAY\n",
       "FLIGHTDATE AIRLINENAME                                                 \n",
       "1992-12-31 Alaska Airlines Inc.: AS                              2390.0\n",
       "           America West Airlines Inc.: HP (Merged with US ...    6123.0\n",
       "           American Airlines Inc.: AA                           27050.0\n",
       "           Continental Air Lines Inc.: CO                       13896.0\n",
       "           Delta Air Lines Inc.: DL                             42625.0\n",
       "...                                                                 ...\n",
       "2016-12-31 SkyWest Airlines Inc.: OO                            14649.0\n",
       "           Southwest Airlines Co.: WN                           48810.0\n",
       "           Spirit Air Lines: NK                                  5725.0\n",
       "           United Air Lines Inc.: UA                            16379.0\n",
       "           Virgin America: VX                                    2970.0\n",
       "\n",
       "[272 rows x 1 columns]"
      ]
     },
     "execution_count": 22,
     "metadata": {},
     "output_type": "execute_result"
    }
   ],
   "source": [
    "dep"
   ]
  },
  {
   "cell_type": "code",
   "execution_count": 23,
   "id": "50daa55d",
   "metadata": {},
   "outputs": [],
   "source": [
    "arr = arr.groupby([pd.Grouper(key=\"FLIGHTDATE\", freq=\"Y\"),\"AIRLINENAME\"]).agg({'ARRDELAY':np.sum})"
   ]
  },
  {
   "cell_type": "code",
   "execution_count": 24,
   "id": "dfa24c4f",
   "metadata": {},
   "outputs": [
    {
     "data": {
      "text/html": [
       "<div>\n",
       "<style scoped>\n",
       "    .dataframe tbody tr th:only-of-type {\n",
       "        vertical-align: middle;\n",
       "    }\n",
       "\n",
       "    .dataframe tbody tr th {\n",
       "        vertical-align: top;\n",
       "    }\n",
       "\n",
       "    .dataframe thead th {\n",
       "        text-align: right;\n",
       "    }\n",
       "</style>\n",
       "<table border=\"1\" class=\"dataframe\">\n",
       "  <thead>\n",
       "    <tr style=\"text-align: right;\">\n",
       "      <th></th>\n",
       "      <th></th>\n",
       "      <th>ARRDELAY</th>\n",
       "    </tr>\n",
       "    <tr>\n",
       "      <th>FLIGHTDATE</th>\n",
       "      <th>AIRLINENAME</th>\n",
       "      <th></th>\n",
       "    </tr>\n",
       "  </thead>\n",
       "  <tbody>\n",
       "    <tr>\n",
       "      <th rowspan=\"5\" valign=\"top\">1992-12-31</th>\n",
       "      <th>Alaska Airlines Inc.: AS</th>\n",
       "      <td>5076.0</td>\n",
       "    </tr>\n",
       "    <tr>\n",
       "      <th>America West Airlines Inc.: HP (Merged with US Airways 9/05.Stopped reporting 10/07.)</th>\n",
       "      <td>7445.0</td>\n",
       "    </tr>\n",
       "    <tr>\n",
       "      <th>American Airlines Inc.: AA</th>\n",
       "      <td>45285.0</td>\n",
       "    </tr>\n",
       "    <tr>\n",
       "      <th>Continental Air Lines Inc.: CO</th>\n",
       "      <td>23605.0</td>\n",
       "    </tr>\n",
       "    <tr>\n",
       "      <th>Delta Air Lines Inc.: DL</th>\n",
       "      <td>60506.0</td>\n",
       "    </tr>\n",
       "    <tr>\n",
       "      <th>...</th>\n",
       "      <th>...</th>\n",
       "      <td>...</td>\n",
       "    </tr>\n",
       "    <tr>\n",
       "      <th rowspan=\"5\" valign=\"top\">2016-12-31</th>\n",
       "      <th>SkyWest Airlines Inc.: OO</th>\n",
       "      <td>16905.0</td>\n",
       "    </tr>\n",
       "    <tr>\n",
       "      <th>Southwest Airlines Co.: WN</th>\n",
       "      <td>42995.0</td>\n",
       "    </tr>\n",
       "    <tr>\n",
       "      <th>Spirit Air Lines: NK</th>\n",
       "      <td>6215.0</td>\n",
       "    </tr>\n",
       "    <tr>\n",
       "      <th>United Air Lines Inc.: UA</th>\n",
       "      <td>12745.0</td>\n",
       "    </tr>\n",
       "    <tr>\n",
       "      <th>Virgin America: VX</th>\n",
       "      <td>2778.0</td>\n",
       "    </tr>\n",
       "  </tbody>\n",
       "</table>\n",
       "<p>272 rows × 1 columns</p>\n",
       "</div>"
      ],
      "text/plain": [
       "                                                               ARRDELAY\n",
       "FLIGHTDATE AIRLINENAME                                                 \n",
       "1992-12-31 Alaska Airlines Inc.: AS                              5076.0\n",
       "           America West Airlines Inc.: HP (Merged with US ...    7445.0\n",
       "           American Airlines Inc.: AA                           45285.0\n",
       "           Continental Air Lines Inc.: CO                       23605.0\n",
       "           Delta Air Lines Inc.: DL                             60506.0\n",
       "...                                                                 ...\n",
       "2016-12-31 SkyWest Airlines Inc.: OO                            16905.0\n",
       "           Southwest Airlines Co.: WN                           42995.0\n",
       "           Spirit Air Lines: NK                                  6215.0\n",
       "           United Air Lines Inc.: UA                            12745.0\n",
       "           Virgin America: VX                                    2778.0\n",
       "\n",
       "[272 rows x 1 columns]"
      ]
     },
     "execution_count": 24,
     "metadata": {},
     "output_type": "execute_result"
    }
   ],
   "source": [
    "arr"
   ]
  },
  {
   "cell_type": "code",
   "execution_count": 25,
   "id": "774416d9",
   "metadata": {},
   "outputs": [],
   "source": [
    "dep.reset_index(inplace=True)\n",
    "arr.reset_index(inplace=True)"
   ]
  },
  {
   "cell_type": "code",
   "execution_count": 36,
   "id": "6c4cdc04",
   "metadata": {},
   "outputs": [
    {
     "data": {
      "text/plain": [
       "True"
      ]
     },
     "execution_count": 36,
     "metadata": {},
     "output_type": "execute_result"
    }
   ],
   "source": [
    "# Identical values, it can be concatenated\n",
    "dep['AIRLINENAME'].tolist() == arr['AIRLINENAME'].tolist()"
   ]
  },
  {
   "cell_type": "code",
   "execution_count": 42,
   "id": "8aef2a85",
   "metadata": {},
   "outputs": [],
   "source": [
    "delay_time = pd.concat([dep,arr['ARRDELAY']],axis=1)"
   ]
  },
  {
   "cell_type": "code",
   "execution_count": 45,
   "id": "b1ac10be",
   "metadata": {},
   "outputs": [],
   "source": [
    "delay_time['TOTALDELAY'] = delay_time['DEPDELAY'] + delay_time['ARRDELAY']"
   ]
  },
  {
   "cell_type": "code",
   "execution_count": 46,
   "id": "19622bf1",
   "metadata": {},
   "outputs": [
    {
     "data": {
      "text/html": [
       "<div>\n",
       "<style scoped>\n",
       "    .dataframe tbody tr th:only-of-type {\n",
       "        vertical-align: middle;\n",
       "    }\n",
       "\n",
       "    .dataframe tbody tr th {\n",
       "        vertical-align: top;\n",
       "    }\n",
       "\n",
       "    .dataframe thead th {\n",
       "        text-align: right;\n",
       "    }\n",
       "</style>\n",
       "<table border=\"1\" class=\"dataframe\">\n",
       "  <thead>\n",
       "    <tr style=\"text-align: right;\">\n",
       "      <th></th>\n",
       "      <th>FLIGHTDATE</th>\n",
       "      <th>AIRLINENAME</th>\n",
       "      <th>DEPDELAY</th>\n",
       "      <th>ARRDELAY</th>\n",
       "      <th>TOTALDELAY</th>\n",
       "    </tr>\n",
       "  </thead>\n",
       "  <tbody>\n",
       "    <tr>\n",
       "      <th>0</th>\n",
       "      <td>1992-12-31</td>\n",
       "      <td>Alaska Airlines Inc.: AS</td>\n",
       "      <td>2390.0</td>\n",
       "      <td>5076.0</td>\n",
       "      <td>7466.0</td>\n",
       "    </tr>\n",
       "    <tr>\n",
       "      <th>1</th>\n",
       "      <td>1992-12-31</td>\n",
       "      <td>America West Airlines Inc.: HP (Merged with US...</td>\n",
       "      <td>6123.0</td>\n",
       "      <td>7445.0</td>\n",
       "      <td>13568.0</td>\n",
       "    </tr>\n",
       "    <tr>\n",
       "      <th>2</th>\n",
       "      <td>1992-12-31</td>\n",
       "      <td>American Airlines Inc.: AA</td>\n",
       "      <td>27050.0</td>\n",
       "      <td>45285.0</td>\n",
       "      <td>72335.0</td>\n",
       "    </tr>\n",
       "    <tr>\n",
       "      <th>3</th>\n",
       "      <td>1992-12-31</td>\n",
       "      <td>Continental Air Lines Inc.: CO</td>\n",
       "      <td>13896.0</td>\n",
       "      <td>23605.0</td>\n",
       "      <td>37501.0</td>\n",
       "    </tr>\n",
       "    <tr>\n",
       "      <th>4</th>\n",
       "      <td>1992-12-31</td>\n",
       "      <td>Delta Air Lines Inc.: DL</td>\n",
       "      <td>42625.0</td>\n",
       "      <td>60506.0</td>\n",
       "      <td>103131.0</td>\n",
       "    </tr>\n",
       "    <tr>\n",
       "      <th>...</th>\n",
       "      <td>...</td>\n",
       "      <td>...</td>\n",
       "      <td>...</td>\n",
       "      <td>...</td>\n",
       "      <td>...</td>\n",
       "    </tr>\n",
       "    <tr>\n",
       "      <th>267</th>\n",
       "      <td>2016-12-31</td>\n",
       "      <td>SkyWest Airlines Inc.: OO</td>\n",
       "      <td>14649.0</td>\n",
       "      <td>16905.0</td>\n",
       "      <td>31554.0</td>\n",
       "    </tr>\n",
       "    <tr>\n",
       "      <th>268</th>\n",
       "      <td>2016-12-31</td>\n",
       "      <td>Southwest Airlines Co.: WN</td>\n",
       "      <td>48810.0</td>\n",
       "      <td>42995.0</td>\n",
       "      <td>91805.0</td>\n",
       "    </tr>\n",
       "    <tr>\n",
       "      <th>269</th>\n",
       "      <td>2016-12-31</td>\n",
       "      <td>Spirit Air Lines: NK</td>\n",
       "      <td>5725.0</td>\n",
       "      <td>6215.0</td>\n",
       "      <td>11940.0</td>\n",
       "    </tr>\n",
       "    <tr>\n",
       "      <th>270</th>\n",
       "      <td>2016-12-31</td>\n",
       "      <td>United Air Lines Inc.: UA</td>\n",
       "      <td>16379.0</td>\n",
       "      <td>12745.0</td>\n",
       "      <td>29124.0</td>\n",
       "    </tr>\n",
       "    <tr>\n",
       "      <th>271</th>\n",
       "      <td>2016-12-31</td>\n",
       "      <td>Virgin America: VX</td>\n",
       "      <td>2970.0</td>\n",
       "      <td>2778.0</td>\n",
       "      <td>5748.0</td>\n",
       "    </tr>\n",
       "  </tbody>\n",
       "</table>\n",
       "<p>272 rows × 5 columns</p>\n",
       "</div>"
      ],
      "text/plain": [
       "    FLIGHTDATE                                        AIRLINENAME  DEPDELAY  \\\n",
       "0   1992-12-31                           Alaska Airlines Inc.: AS    2390.0   \n",
       "1   1992-12-31  America West Airlines Inc.: HP (Merged with US...    6123.0   \n",
       "2   1992-12-31                         American Airlines Inc.: AA   27050.0   \n",
       "3   1992-12-31                     Continental Air Lines Inc.: CO   13896.0   \n",
       "4   1992-12-31                           Delta Air Lines Inc.: DL   42625.0   \n",
       "..         ...                                                ...       ...   \n",
       "267 2016-12-31                          SkyWest Airlines Inc.: OO   14649.0   \n",
       "268 2016-12-31                         Southwest Airlines Co.: WN   48810.0   \n",
       "269 2016-12-31                               Spirit Air Lines: NK    5725.0   \n",
       "270 2016-12-31                          United Air Lines Inc.: UA   16379.0   \n",
       "271 2016-12-31                                 Virgin America: VX    2970.0   \n",
       "\n",
       "     ARRDELAY  TOTALDELAY  \n",
       "0      5076.0      7466.0  \n",
       "1      7445.0     13568.0  \n",
       "2     45285.0     72335.0  \n",
       "3     23605.0     37501.0  \n",
       "4     60506.0    103131.0  \n",
       "..        ...         ...  \n",
       "267   16905.0     31554.0  \n",
       "268   42995.0     91805.0  \n",
       "269    6215.0     11940.0  \n",
       "270   12745.0     29124.0  \n",
       "271    2778.0      5748.0  \n",
       "\n",
       "[272 rows x 5 columns]"
      ]
     },
     "execution_count": 46,
     "metadata": {},
     "output_type": "execute_result"
    }
   ],
   "source": [
    "delay_time"
   ]
  }
 ],
 "metadata": {
  "kernelspec": {
   "display_name": "Python 3",
   "language": "python",
   "name": "python3"
  },
  "language_info": {
   "codemirror_mode": {
    "name": "ipython",
    "version": 3
   },
   "file_extension": ".py",
   "mimetype": "text/x-python",
   "name": "python",
   "nbconvert_exporter": "python",
   "pygments_lexer": "ipython3",
   "version": "3.7.9"
  }
 },
 "nbformat": 4,
 "nbformat_minor": 5
}
