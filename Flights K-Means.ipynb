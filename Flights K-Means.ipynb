{
 "cells": [
  {
   "cell_type": "markdown",
   "id": "846c01d6",
   "metadata": {},
   "source": [
    "# Characterization of airlines based on delay time"
   ]
  },
  {
   "cell_type": "markdown",
   "id": "8cf65939",
   "metadata": {},
   "source": [
    "## Libraries"
   ]
  },
  {
   "cell_type": "code",
   "execution_count": 1,
   "id": "b8894132",
   "metadata": {},
   "outputs": [],
   "source": [
    "import pandas as pd\n",
    "import numpy as np\n",
    "from sklearn.preprocessing import StandardScaler\n",
    "from sklearn.cluster import KMeans\n",
    "import matplotlib.pyplot as plt\n",
    "import seaborn as sns"
   ]
  },
  {
   "cell_type": "markdown",
   "id": "ee183969",
   "metadata": {},
   "source": [
    "## Reading data from file"
   ]
  },
  {
   "cell_type": "code",
   "execution_count": 2,
   "id": "b54045e7",
   "metadata": {},
   "outputs": [],
   "source": [
    "flights = pd.read_csv(\"flights.txt\", sep=\"|\")"
   ]
  },
  {
   "cell_type": "code",
   "execution_count": 3,
   "id": "54963b57",
   "metadata": {},
   "outputs": [
    {
     "data": {
      "text/plain": [
       "(1191805, 31)"
      ]
     },
     "execution_count": 3,
     "metadata": {},
     "output_type": "execute_result"
    }
   ],
   "source": [
    "flights.shape"
   ]
  },
  {
   "cell_type": "code",
   "execution_count": 5,
   "id": "e545429e",
   "metadata": {},
   "outputs": [],
   "source": [
    "flights['FLIGHTDATE'] = pd.to_datetime(flights['FLIGHTDATE'], format='%Y%m%d')"
   ]
  },
  {
   "cell_type": "code",
   "execution_count": 8,
   "id": "b02b6525",
   "metadata": {},
   "outputs": [
    {
     "data": {
      "text/plain": [
       "TRANSACTIONID                 int64\n",
       "FLIGHTDATE           datetime64[ns]\n",
       "AIRLINECODE                  object\n",
       "AIRLINENAME                  object\n",
       "TAILNUM                      object\n",
       "FLIGHTNUM                     int64\n",
       "ORIGINAIRPORTCODE            object\n",
       "ORIGAIRPORTNAME              object\n",
       "ORIGINCITYNAME               object\n",
       "ORIGINSTATE                  object\n",
       "ORIGINSTATENAME              object\n",
       "DESTAIRPORTCODE              object\n",
       "DESTAIRPORTNAME              object\n",
       "DESTCITYNAME                 object\n",
       "DESTSTATE                    object\n",
       "DESTSTATENAME                object\n",
       "CRSDEPTIME                    int64\n",
       "DEPTIME                     float64\n",
       "DEPDELAY                    float64\n",
       "TAXIOUT                     float64\n",
       "WHEELSOFF                   float64\n",
       "WHEELSON                    float64\n",
       "TAXIIN                      float64\n",
       "CRSARRTIME                    int64\n",
       "ARRTIME                     float64\n",
       "ARRDELAY                    float64\n",
       "CRSELAPSEDTIME              float64\n",
       "ACTUALELAPSEDTIME           float64\n",
       "CANCELLED                    object\n",
       "DIVERTED                     object\n",
       "DISTANCE                     object\n",
       "dtype: object"
      ]
     },
     "execution_count": 8,
     "metadata": {},
     "output_type": "execute_result"
    }
   ],
   "source": [
    "flights.dtypes"
   ]
  }
 ],
 "metadata": {
  "kernelspec": {
   "display_name": "Python 3",
   "language": "python",
   "name": "python3"
  },
  "language_info": {
   "codemirror_mode": {
    "name": "ipython",
    "version": 3
   },
   "file_extension": ".py",
   "mimetype": "text/x-python",
   "name": "python",
   "nbconvert_exporter": "python",
   "pygments_lexer": "ipython3",
   "version": "3.7.9"
  }
 },
 "nbformat": 4,
 "nbformat_minor": 5
}
